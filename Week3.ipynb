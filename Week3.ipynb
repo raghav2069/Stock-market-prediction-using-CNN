{
  "nbformat": 4,
  "nbformat_minor": 0,
  "metadata": {
    "colab": {
      "name": "Week3.ipynb",
      "provenance": [],
      "authorship_tag": "ABX9TyOyI7mIZdk3kc2DF46g53IL",
      "include_colab_link": true
    },
    "kernelspec": {
      "name": "python3",
      "display_name": "Python 3"
    },
    "language_info": {
      "name": "python"
    }
  },
  "cells": [
    {
      "cell_type": "markdown",
      "metadata": {
        "id": "view-in-github",
        "colab_type": "text"
      },
      "source": [
        "<a href=\"https://colab.research.google.com/github/raghav2069/Stock-market-prediction-using-CNN/blob/main/Week3.ipynb\" target=\"_parent\"><img src=\"https://colab.research.google.com/assets/colab-badge.svg\" alt=\"Open In Colab\"/></a>"
      ]
    },
    {
      "cell_type": "code",
      "source": [
        "import pandas as pd\n",
        "import numpy as np\n",
        "import matplotlib.pyplot as plt\n",
        "import seaborn as sns\n",
        "get_ipython().run_line_magic('matplotlib', 'inline')\n",
        "\n",
        "from sklearn.model_selection import train_test_split\n",
        "from sklearn.model_selection import KFold\n",
        "from sklearn.model_selection import GridSearchCV\n",
        "from sklearn.metrics import classification_report,confusion_matrix, accuracy_score\n",
        "from sklearn.ensemble import RandomForestClassifier\n",
        "import pickle\n",
        "\n",
        "# To ignore warnings\n",
        "import warnings\n",
        "warnings.filterwarnings(\"ignore\")"
      ],
      "metadata": {
        "id": "Ui-r77EdApjW"
      },
      "execution_count": null,
      "outputs": []
    },
    {
      "cell_type": "code",
      "source": [
        "url='https://raw.githubusercontent.com/debmalya92/credit-card-defaulter-prediction/main/credit-card-default.csv'\n",
        "df = pd.read_csv(url)\n",
        "df.head()\n",
        "\n"
      ],
      "metadata": {
        "colab": {
          "base_uri": "https://localhost:8080/",
          "height": 299
        },
        "id": "cGpp2_CmBvh4",
        "outputId": "83b39db1-9b84-4459-df78-689c925f6782"
      },
      "execution_count": null,
      "outputs": [
        {
          "output_type": "execute_result",
          "data": {
            "text/plain": [
              "   ID  LIMIT_BAL  SEX  EDUCATION  MARRIAGE  AGE  PAY_0  PAY_2  PAY_3  PAY_4  \\\n",
              "0   1      20000    2          2         1   24      2      2     -1     -1   \n",
              "1   2     120000    2          2         2   26     -1      2      0      0   \n",
              "2   3      90000    2          2         2   34      0      0      0      0   \n",
              "3   4      50000    2          2         1   37      0      0      0      0   \n",
              "4   5      50000    1          2         1   57     -1      0     -1      0   \n",
              "\n",
              "   ...  BILL_AMT4  BILL_AMT5  BILL_AMT6  PAY_AMT1  PAY_AMT2  PAY_AMT3  \\\n",
              "0  ...          0          0          0         0       689         0   \n",
              "1  ...       3272       3455       3261         0      1000      1000   \n",
              "2  ...      14331      14948      15549      1518      1500      1000   \n",
              "3  ...      28314      28959      29547      2000      2019      1200   \n",
              "4  ...      20940      19146      19131      2000     36681     10000   \n",
              "\n",
              "   PAY_AMT4  PAY_AMT5  PAY_AMT6  defaulted  \n",
              "0         0         0         0          1  \n",
              "1      1000         0      2000          1  \n",
              "2      1000      1000      5000          0  \n",
              "3      1100      1069      1000          0  \n",
              "4      9000       689       679          0  \n",
              "\n",
              "[5 rows x 25 columns]"
            ],
            "text/html": [
              "\n",
              "  <div id=\"df-6df67d47-e6b2-4061-9d87-19db79db441e\">\n",
              "    <div class=\"colab-df-container\">\n",
              "      <div>\n",
              "<style scoped>\n",
              "    .dataframe tbody tr th:only-of-type {\n",
              "        vertical-align: middle;\n",
              "    }\n",
              "\n",
              "    .dataframe tbody tr th {\n",
              "        vertical-align: top;\n",
              "    }\n",
              "\n",
              "    .dataframe thead th {\n",
              "        text-align: right;\n",
              "    }\n",
              "</style>\n",
              "<table border=\"1\" class=\"dataframe\">\n",
              "  <thead>\n",
              "    <tr style=\"text-align: right;\">\n",
              "      <th></th>\n",
              "      <th>ID</th>\n",
              "      <th>LIMIT_BAL</th>\n",
              "      <th>SEX</th>\n",
              "      <th>EDUCATION</th>\n",
              "      <th>MARRIAGE</th>\n",
              "      <th>AGE</th>\n",
              "      <th>PAY_0</th>\n",
              "      <th>PAY_2</th>\n",
              "      <th>PAY_3</th>\n",
              "      <th>PAY_4</th>\n",
              "      <th>...</th>\n",
              "      <th>BILL_AMT4</th>\n",
              "      <th>BILL_AMT5</th>\n",
              "      <th>BILL_AMT6</th>\n",
              "      <th>PAY_AMT1</th>\n",
              "      <th>PAY_AMT2</th>\n",
              "      <th>PAY_AMT3</th>\n",
              "      <th>PAY_AMT4</th>\n",
              "      <th>PAY_AMT5</th>\n",
              "      <th>PAY_AMT6</th>\n",
              "      <th>defaulted</th>\n",
              "    </tr>\n",
              "  </thead>\n",
              "  <tbody>\n",
              "    <tr>\n",
              "      <th>0</th>\n",
              "      <td>1</td>\n",
              "      <td>20000</td>\n",
              "      <td>2</td>\n",
              "      <td>2</td>\n",
              "      <td>1</td>\n",
              "      <td>24</td>\n",
              "      <td>2</td>\n",
              "      <td>2</td>\n",
              "      <td>-1</td>\n",
              "      <td>-1</td>\n",
              "      <td>...</td>\n",
              "      <td>0</td>\n",
              "      <td>0</td>\n",
              "      <td>0</td>\n",
              "      <td>0</td>\n",
              "      <td>689</td>\n",
              "      <td>0</td>\n",
              "      <td>0</td>\n",
              "      <td>0</td>\n",
              "      <td>0</td>\n",
              "      <td>1</td>\n",
              "    </tr>\n",
              "    <tr>\n",
              "      <th>1</th>\n",
              "      <td>2</td>\n",
              "      <td>120000</td>\n",
              "      <td>2</td>\n",
              "      <td>2</td>\n",
              "      <td>2</td>\n",
              "      <td>26</td>\n",
              "      <td>-1</td>\n",
              "      <td>2</td>\n",
              "      <td>0</td>\n",
              "      <td>0</td>\n",
              "      <td>...</td>\n",
              "      <td>3272</td>\n",
              "      <td>3455</td>\n",
              "      <td>3261</td>\n",
              "      <td>0</td>\n",
              "      <td>1000</td>\n",
              "      <td>1000</td>\n",
              "      <td>1000</td>\n",
              "      <td>0</td>\n",
              "      <td>2000</td>\n",
              "      <td>1</td>\n",
              "    </tr>\n",
              "    <tr>\n",
              "      <th>2</th>\n",
              "      <td>3</td>\n",
              "      <td>90000</td>\n",
              "      <td>2</td>\n",
              "      <td>2</td>\n",
              "      <td>2</td>\n",
              "      <td>34</td>\n",
              "      <td>0</td>\n",
              "      <td>0</td>\n",
              "      <td>0</td>\n",
              "      <td>0</td>\n",
              "      <td>...</td>\n",
              "      <td>14331</td>\n",
              "      <td>14948</td>\n",
              "      <td>15549</td>\n",
              "      <td>1518</td>\n",
              "      <td>1500</td>\n",
              "      <td>1000</td>\n",
              "      <td>1000</td>\n",
              "      <td>1000</td>\n",
              "      <td>5000</td>\n",
              "      <td>0</td>\n",
              "    </tr>\n",
              "    <tr>\n",
              "      <th>3</th>\n",
              "      <td>4</td>\n",
              "      <td>50000</td>\n",
              "      <td>2</td>\n",
              "      <td>2</td>\n",
              "      <td>1</td>\n",
              "      <td>37</td>\n",
              "      <td>0</td>\n",
              "      <td>0</td>\n",
              "      <td>0</td>\n",
              "      <td>0</td>\n",
              "      <td>...</td>\n",
              "      <td>28314</td>\n",
              "      <td>28959</td>\n",
              "      <td>29547</td>\n",
              "      <td>2000</td>\n",
              "      <td>2019</td>\n",
              "      <td>1200</td>\n",
              "      <td>1100</td>\n",
              "      <td>1069</td>\n",
              "      <td>1000</td>\n",
              "      <td>0</td>\n",
              "    </tr>\n",
              "    <tr>\n",
              "      <th>4</th>\n",
              "      <td>5</td>\n",
              "      <td>50000</td>\n",
              "      <td>1</td>\n",
              "      <td>2</td>\n",
              "      <td>1</td>\n",
              "      <td>57</td>\n",
              "      <td>-1</td>\n",
              "      <td>0</td>\n",
              "      <td>-1</td>\n",
              "      <td>0</td>\n",
              "      <td>...</td>\n",
              "      <td>20940</td>\n",
              "      <td>19146</td>\n",
              "      <td>19131</td>\n",
              "      <td>2000</td>\n",
              "      <td>36681</td>\n",
              "      <td>10000</td>\n",
              "      <td>9000</td>\n",
              "      <td>689</td>\n",
              "      <td>679</td>\n",
              "      <td>0</td>\n",
              "    </tr>\n",
              "  </tbody>\n",
              "</table>\n",
              "<p>5 rows × 25 columns</p>\n",
              "</div>\n",
              "      <button class=\"colab-df-convert\" onclick=\"convertToInteractive('df-6df67d47-e6b2-4061-9d87-19db79db441e')\"\n",
              "              title=\"Convert this dataframe to an interactive table.\"\n",
              "              style=\"display:none;\">\n",
              "        \n",
              "  <svg xmlns=\"http://www.w3.org/2000/svg\" height=\"24px\"viewBox=\"0 0 24 24\"\n",
              "       width=\"24px\">\n",
              "    <path d=\"M0 0h24v24H0V0z\" fill=\"none\"/>\n",
              "    <path d=\"M18.56 5.44l.94 2.06.94-2.06 2.06-.94-2.06-.94-.94-2.06-.94 2.06-2.06.94zm-11 1L8.5 8.5l.94-2.06 2.06-.94-2.06-.94L8.5 2.5l-.94 2.06-2.06.94zm10 10l.94 2.06.94-2.06 2.06-.94-2.06-.94-.94-2.06-.94 2.06-2.06.94z\"/><path d=\"M17.41 7.96l-1.37-1.37c-.4-.4-.92-.59-1.43-.59-.52 0-1.04.2-1.43.59L10.3 9.45l-7.72 7.72c-.78.78-.78 2.05 0 2.83L4 21.41c.39.39.9.59 1.41.59.51 0 1.02-.2 1.41-.59l7.78-7.78 2.81-2.81c.8-.78.8-2.07 0-2.86zM5.41 20L4 18.59l7.72-7.72 1.47 1.35L5.41 20z\"/>\n",
              "  </svg>\n",
              "      </button>\n",
              "      \n",
              "  <style>\n",
              "    .colab-df-container {\n",
              "      display:flex;\n",
              "      flex-wrap:wrap;\n",
              "      gap: 12px;\n",
              "    }\n",
              "\n",
              "    .colab-df-convert {\n",
              "      background-color: #E8F0FE;\n",
              "      border: none;\n",
              "      border-radius: 50%;\n",
              "      cursor: pointer;\n",
              "      display: none;\n",
              "      fill: #1967D2;\n",
              "      height: 32px;\n",
              "      padding: 0 0 0 0;\n",
              "      width: 32px;\n",
              "    }\n",
              "\n",
              "    .colab-df-convert:hover {\n",
              "      background-color: #E2EBFA;\n",
              "      box-shadow: 0px 1px 2px rgba(60, 64, 67, 0.3), 0px 1px 3px 1px rgba(60, 64, 67, 0.15);\n",
              "      fill: #174EA6;\n",
              "    }\n",
              "\n",
              "    [theme=dark] .colab-df-convert {\n",
              "      background-color: #3B4455;\n",
              "      fill: #D2E3FC;\n",
              "    }\n",
              "\n",
              "    [theme=dark] .colab-df-convert:hover {\n",
              "      background-color: #434B5C;\n",
              "      box-shadow: 0px 1px 3px 1px rgba(0, 0, 0, 0.15);\n",
              "      filter: drop-shadow(0px 1px 2px rgba(0, 0, 0, 0.3));\n",
              "      fill: #FFFFFF;\n",
              "    }\n",
              "  </style>\n",
              "\n",
              "      <script>\n",
              "        const buttonEl =\n",
              "          document.querySelector('#df-6df67d47-e6b2-4061-9d87-19db79db441e button.colab-df-convert');\n",
              "        buttonEl.style.display =\n",
              "          google.colab.kernel.accessAllowed ? 'block' : 'none';\n",
              "\n",
              "        async function convertToInteractive(key) {\n",
              "          const element = document.querySelector('#df-6df67d47-e6b2-4061-9d87-19db79db441e');\n",
              "          const dataTable =\n",
              "            await google.colab.kernel.invokeFunction('convertToInteractive',\n",
              "                                                     [key], {});\n",
              "          if (!dataTable) return;\n",
              "\n",
              "          const docLinkHtml = 'Like what you see? Visit the ' +\n",
              "            '<a target=\"_blank\" href=https://colab.research.google.com/notebooks/data_table.ipynb>data table notebook</a>'\n",
              "            + ' to learn more about interactive tables.';\n",
              "          element.innerHTML = '';\n",
              "          dataTable['output_type'] = 'display_data';\n",
              "          await google.colab.output.renderOutput(dataTable, element);\n",
              "          const docLink = document.createElement('div');\n",
              "          docLink.innerHTML = docLinkHtml;\n",
              "          element.appendChild(docLink);\n",
              "        }\n",
              "      </script>\n",
              "    </div>\n",
              "  </div>\n",
              "  "
            ]
          },
          "metadata": {},
          "execution_count": 45
        }
      ]
    },
    {
      "cell_type": "code",
      "source": [
        "df.info()"
      ],
      "metadata": {
        "colab": {
          "base_uri": "https://localhost:8080/"
        },
        "id": "3HVwxZ9ST-Ez",
        "outputId": "f5d20c4f-b13d-40f5-fcfc-2378dc595891"
      },
      "execution_count": null,
      "outputs": [
        {
          "output_type": "stream",
          "name": "stdout",
          "text": [
            "<class 'pandas.core.frame.DataFrame'>\n",
            "RangeIndex: 30000 entries, 0 to 29999\n",
            "Data columns (total 25 columns):\n",
            " #   Column     Non-Null Count  Dtype\n",
            "---  ------     --------------  -----\n",
            " 0   ID         30000 non-null  int64\n",
            " 1   LIMIT_BAL  30000 non-null  int64\n",
            " 2   SEX        30000 non-null  int64\n",
            " 3   EDUCATION  30000 non-null  int64\n",
            " 4   MARRIAGE   30000 non-null  int64\n",
            " 5   AGE        30000 non-null  int64\n",
            " 6   PAY_0      30000 non-null  int64\n",
            " 7   PAY_2      30000 non-null  int64\n",
            " 8   PAY_3      30000 non-null  int64\n",
            " 9   PAY_4      30000 non-null  int64\n",
            " 10  PAY_5      30000 non-null  int64\n",
            " 11  PAY_6      30000 non-null  int64\n",
            " 12  BILL_AMT1  30000 non-null  int64\n",
            " 13  BILL_AMT2  30000 non-null  int64\n",
            " 14  BILL_AMT3  30000 non-null  int64\n",
            " 15  BILL_AMT4  30000 non-null  int64\n",
            " 16  BILL_AMT5  30000 non-null  int64\n",
            " 17  BILL_AMT6  30000 non-null  int64\n",
            " 18  PAY_AMT1   30000 non-null  int64\n",
            " 19  PAY_AMT2   30000 non-null  int64\n",
            " 20  PAY_AMT3   30000 non-null  int64\n",
            " 21  PAY_AMT4   30000 non-null  int64\n",
            " 22  PAY_AMT5   30000 non-null  int64\n",
            " 23  PAY_AMT6   30000 non-null  int64\n",
            " 24  defaulted  30000 non-null  int64\n",
            "dtypes: int64(25)\n",
            "memory usage: 5.7 MB\n"
          ]
        }
      ]
    },
    {
      "cell_type": "code",
      "source": [
        "df.SEX.value_counts()"
      ],
      "metadata": {
        "colab": {
          "base_uri": "https://localhost:8080/"
        },
        "id": "1Biyx959ULhn",
        "outputId": "fc5cdb2b-03d5-42bc-9cd6-3735d1c9e488"
      },
      "execution_count": null,
      "outputs": [
        {
          "output_type": "execute_result",
          "data": {
            "text/plain": [
              "2    18112\n",
              "1    11888\n",
              "Name: SEX, dtype: int64"
            ]
          },
          "metadata": {},
          "execution_count": 47
        }
      ]
    },
    {
      "cell_type": "code",
      "source": [
        "df.EDUCATION.value_counts()"
      ],
      "metadata": {
        "colab": {
          "base_uri": "https://localhost:8080/"
        },
        "id": "78oh0Mg8UQ_G",
        "outputId": "86b0224b-e02f-4474-e92f-c3e746115d4d"
      },
      "execution_count": null,
      "outputs": [
        {
          "output_type": "execute_result",
          "data": {
            "text/plain": [
              "2    14030\n",
              "1    10585\n",
              "3     4917\n",
              "5      280\n",
              "4      123\n",
              "6       51\n",
              "0       14\n",
              "Name: EDUCATION, dtype: int64"
            ]
          },
          "metadata": {},
          "execution_count": 48
        }
      ]
    },
    {
      "cell_type": "code",
      "source": [
        "df['EDUCATION'].replace([0, 6], 5, inplace=True)"
      ],
      "metadata": {
        "id": "Jdz56cLLUSJv"
      },
      "execution_count": null,
      "outputs": []
    },
    {
      "cell_type": "code",
      "source": [
        "df.EDUCATION.value_counts()"
      ],
      "metadata": {
        "colab": {
          "base_uri": "https://localhost:8080/"
        },
        "id": "G8Qj_-0dUV3f",
        "outputId": "e40546a3-2f10-4ada-90fc-ba1251936eb9"
      },
      "execution_count": null,
      "outputs": [
        {
          "output_type": "execute_result",
          "data": {
            "text/plain": [
              "2    14030\n",
              "1    10585\n",
              "3     4917\n",
              "5      345\n",
              "4      123\n",
              "Name: EDUCATION, dtype: int64"
            ]
          },
          "metadata": {},
          "execution_count": 50
        }
      ]
    },
    {
      "cell_type": "code",
      "source": [
        "df.MARRIAGE.value_counts()\n"
      ],
      "metadata": {
        "colab": {
          "base_uri": "https://localhost:8080/"
        },
        "id": "vS16OqxqUY3t",
        "outputId": "73e09a05-0513-4992-8e71-192423752f27"
      },
      "execution_count": null,
      "outputs": [
        {
          "output_type": "execute_result",
          "data": {
            "text/plain": [
              "2    15964\n",
              "1    13659\n",
              "3      323\n",
              "0       54\n",
              "Name: MARRIAGE, dtype: int64"
            ]
          },
          "metadata": {},
          "execution_count": 51
        }
      ]
    },
    {
      "cell_type": "code",
      "source": [
        "df['MARRIAGE'].replace(0, 3, inplace=True)"
      ],
      "metadata": {
        "id": "qY1HrgRGUbrj"
      },
      "execution_count": null,
      "outputs": []
    },
    {
      "cell_type": "code",
      "source": [
        "df.MARRIAGE.value_counts()\n",
        "\n",
        "\n",
        "\n",
        "\n",
        "\n"
      ],
      "metadata": {
        "colab": {
          "base_uri": "https://localhost:8080/"
        },
        "id": "Yh96WF84VVAH",
        "outputId": "f6304848-900b-47b2-eb53-8dfe1b15a26d"
      },
      "execution_count": null,
      "outputs": [
        {
          "output_type": "execute_result",
          "data": {
            "text/plain": [
              "2    15964\n",
              "1    13659\n",
              "3      377\n",
              "Name: MARRIAGE, dtype: int64"
            ]
          },
          "metadata": {},
          "execution_count": 53
        }
      ]
    },
    {
      "cell_type": "code",
      "source": [
        "df.PAY_2.value_counts()"
      ],
      "metadata": {
        "colab": {
          "base_uri": "https://localhost:8080/"
        },
        "id": "9Cxn4tslVW5Q",
        "outputId": "f23549f0-f780-428d-a5b1-7cfafbf7b753"
      },
      "execution_count": null,
      "outputs": [
        {
          "output_type": "execute_result",
          "data": {
            "text/plain": [
              " 0    15730\n",
              "-1     6050\n",
              " 2     3927\n",
              "-2     3782\n",
              " 3      326\n",
              " 4       99\n",
              " 1       28\n",
              " 5       25\n",
              " 7       20\n",
              " 6       12\n",
              " 8        1\n",
              "Name: PAY_2, dtype: int64"
            ]
          },
          "metadata": {},
          "execution_count": 54
        }
      ]
    },
    {
      "cell_type": "code",
      "source": [
        "df.PAY_0.value_counts()\n",
        "# In this case, we know that there are no major data quality issues, so we'll go ahead and build the model.\n",
        "\n",
        "# ### Data Preparation and Model Building"
      ],
      "metadata": {
        "colab": {
          "base_uri": "https://localhost:8080/"
        },
        "id": "VhSNcYiOVDhz",
        "outputId": "1f28cbcc-cceb-412e-8be7-2a8faa1a2491"
      },
      "execution_count": null,
      "outputs": [
        {
          "output_type": "execute_result",
          "data": {
            "text/plain": [
              " 0    14737\n",
              "-1     5686\n",
              " 1     3688\n",
              "-2     2759\n",
              " 2     2667\n",
              " 3      322\n",
              " 4       76\n",
              " 5       26\n",
              " 8       19\n",
              " 6       11\n",
              " 7        9\n",
              "Name: PAY_0, dtype: int64"
            ]
          },
          "metadata": {},
          "execution_count": 55
        }
      ]
    },
    {
      "cell_type": "code",
      "source": [
        "# Dropping id column as it's no use\n",
        "df.drop('ID',axis=1, inplace=True)"
      ],
      "metadata": {
        "id": "T7jKsu9IVcHa"
      },
      "execution_count": null,
      "outputs": []
    },
    {
      "cell_type": "code",
      "source": [
        "# Putting feature variable to X\n",
        "X = df.drop('defaulted',axis=1)\n",
        "\n",
        "# Putting response variable to y\n",
        "y = df['defaulted']"
      ],
      "metadata": {
        "id": "gfb_vMR6VfJp"
      },
      "execution_count": null,
      "outputs": []
    },
    {
      "cell_type": "code",
      "source": [
        "# Splitting the data into train and test\n",
        "X_train, X_test, y_train, y_test = train_test_split(X, y, test_size=0.30, random_state=101)\n"
      ],
      "metadata": {
        "id": "1sbv1FdzVkW7"
      },
      "execution_count": null,
      "outputs": []
    },
    {
      "cell_type": "code",
      "source": [
        "#Let's first fit a random forest model with default hyperparameters.\n",
        "# Running the random forest with default parameters.\n",
        "rfc = RandomForestClassifier()"
      ],
      "metadata": {
        "id": "QFlEVfETVoAB"
      },
      "execution_count": null,
      "outputs": []
    },
    {
      "cell_type": "code",
      "source": [
        "# fit\n",
        "rfc.fit(X_train,y_train)"
      ],
      "metadata": {
        "colab": {
          "base_uri": "https://localhost:8080/"
        },
        "id": "rXMtpjBhVwWB",
        "outputId": "74ca7c16-2baa-4fd1-ab02-aced2ee34c9a"
      },
      "execution_count": null,
      "outputs": [
        {
          "output_type": "execute_result",
          "data": {
            "text/plain": [
              "RandomForestClassifier()"
            ]
          },
          "metadata": {},
          "execution_count": 60
        }
      ]
    },
    {
      "cell_type": "code",
      "source": [
        "# Making predictions\n",
        "predictions = rfc.predict(X_test)"
      ],
      "metadata": {
        "id": "cMDx1fjXVy1N"
      },
      "execution_count": null,
      "outputs": []
    },
    {
      "cell_type": "code",
      "source": [
        "# Let's check the report of our default model\n",
        "print(classification_report(y_test,predictions))\n"
      ],
      "metadata": {
        "colab": {
          "base_uri": "https://localhost:8080/"
        },
        "id": "KudVsKwUV1WA",
        "outputId": "11f7b693-cc30-435b-a733-4be5a91b1893"
      },
      "execution_count": null,
      "outputs": [
        {
          "output_type": "stream",
          "name": "stdout",
          "text": [
            "              precision    recall  f1-score   support\n",
            "\n",
            "           0       0.84      0.94      0.89      7058\n",
            "           1       0.63      0.36      0.46      1942\n",
            "\n",
            "    accuracy                           0.82      9000\n",
            "   macro avg       0.74      0.65      0.68      9000\n",
            "weighted avg       0.80      0.82      0.80      9000\n",
            "\n"
          ]
        }
      ]
    },
    {
      "cell_type": "code",
      "source": [
        "# Printing confusion matrix\n",
        "print(confusion_matrix(y_test,predictions))\n",
        "\n",
        "print(accuracy_score(y_test,predictions))"
      ],
      "metadata": {
        "colab": {
          "base_uri": "https://localhost:8080/"
        },
        "id": "HQF8Yz76V4YI",
        "outputId": "4586fb28-b88a-4025-904c-ff2c9918de4e"
      },
      "execution_count": null,
      "outputs": [
        {
          "output_type": "stream",
          "name": "stdout",
          "text": [
            "[[6648  410]\n",
            " [1237  705]]\n",
            "0.817\n"
          ]
        }
      ]
    },
    {
      "cell_type": "code",
      "source": [
        "# The following hyperparameters are present in a random forest classifier. We will tune each parameters\n",
        "# \n",
        "# \n",
        "# - **n_estimators** \n",
        "# - **criterion**\n",
        "# - **max_features** \n",
        "# - **max_depth**\n",
        "# - **min_samples_split**\n",
        "# - **min_samples_leaf**\n",
        "# - **min_weight_fraction_leaf**\n",
        "# - **max_leaf_nodes**\n",
        "# - **min_impurity_split**\n",
        "\n",
        "# <hr>\n",
        "\n",
        "# ### Tuning max_depth\n",
        "\n",
        "# Let's try to find the optimum values for ```max_depth``` and understand how the value of max_depth impacts the overall accuracy of the ensemble."
      ],
      "metadata": {
        "id": "tA4jEx80V7Mu"
      },
      "execution_count": null,
      "outputs": []
    },
    {
      "cell_type": "code",
      "source": [
        "# specify number of folds for k-fold CV\n",
        "n_folds = 5"
      ],
      "metadata": {
        "id": "rsKEY2_yWErJ"
      },
      "execution_count": null,
      "outputs": []
    },
    {
      "cell_type": "code",
      "source": [
        "# parameters to build the model on\n",
        "parameters = {'max_depth': range(2, 20, 5)}\n"
      ],
      "metadata": {
        "id": "mGJKGtLMWIT5"
      },
      "execution_count": null,
      "outputs": []
    },
    {
      "cell_type": "code",
      "source": [
        "# instantiate the model\n",
        "rf = RandomForestClassifier()"
      ],
      "metadata": {
        "id": "1YefVhYEWKiF"
      },
      "execution_count": null,
      "outputs": []
    },
    {
      "cell_type": "code",
      "source": [
        "# fit tree on training data\n",
        "rf = GridSearchCV(rf, parameters, \n",
        "                    cv=n_folds, \n",
        "                   scoring=\"accuracy\",\n",
        "                 return_train_score=True)\n",
        "rf.fit(X_train, y_train)"
      ],
      "metadata": {
        "colab": {
          "base_uri": "https://localhost:8080/"
        },
        "id": "gr8hkZlCWMyv",
        "outputId": "399448c7-b72c-424b-e178-cda2a773a60d"
      },
      "execution_count": null,
      "outputs": [
        {
          "output_type": "execute_result",
          "data": {
            "text/plain": [
              "GridSearchCV(cv=5, estimator=RandomForestClassifier(),\n",
              "             param_grid={'max_depth': range(2, 20, 5)}, return_train_score=True,\n",
              "             scoring='accuracy')"
            ]
          },
          "metadata": {},
          "execution_count": 68
        }
      ]
    },
    {
      "cell_type": "code",
      "source": [
        "# scores of GridSearch CV\n",
        "scores = rf.cv_results_\n",
        "pd.DataFrame(scores).head()"
      ],
      "metadata": {
        "colab": {
          "base_uri": "https://localhost:8080/",
          "height": 338
        },
        "id": "iBvQuoxGWQIY",
        "outputId": "5a323b2d-9155-48bc-c226-16e8306294bd"
      },
      "execution_count": null,
      "outputs": [
        {
          "output_type": "execute_result",
          "data": {
            "text/plain": [
              "   mean_fit_time  std_fit_time  mean_score_time  std_score_time  \\\n",
              "0       0.910639      0.016111         0.033301        0.000556   \n",
              "1       2.257169      0.013703         0.054022        0.004390   \n",
              "2       3.449443      0.019346         0.073850        0.003148   \n",
              "3       4.313730      0.027981         0.092797        0.001166   \n",
              "\n",
              "  param_max_depth             params  split0_test_score  split1_test_score  \\\n",
              "0               2   {'max_depth': 2}           0.797381           0.800000   \n",
              "1               7   {'max_depth': 7}           0.814286           0.821190   \n",
              "2              12  {'max_depth': 12}           0.818095           0.819762   \n",
              "3              17  {'max_depth': 17}           0.813095           0.814762   \n",
              "\n",
              "   split2_test_score  split3_test_score  ...  mean_test_score  std_test_score  \\\n",
              "0           0.800714           0.795000  ...         0.797810        0.002225   \n",
              "1           0.815714           0.815238  ...         0.817190        0.002679   \n",
              "2           0.820000           0.812857  ...         0.817238        0.002721   \n",
              "3           0.820238           0.810000  ...         0.814905        0.003409   \n",
              "\n",
              "   rank_test_score  split0_train_score  split1_train_score  \\\n",
              "0                4            0.799643            0.797083   \n",
              "1                2            0.832500            0.831964   \n",
              "2                1            0.883214            0.882143   \n",
              "3                3            0.926488            0.927798   \n",
              "\n",
              "   split2_train_score  split3_train_score  split4_train_score  \\\n",
              "0            0.800179            0.798631            0.799583   \n",
              "1            0.831548            0.834940            0.832798   \n",
              "2            0.882202            0.884940            0.885774   \n",
              "3            0.931488            0.929286            0.928571   \n",
              "\n",
              "   mean_train_score  std_train_score  \n",
              "0          0.799024         0.001091  \n",
              "1          0.832750         0.001177  \n",
              "2          0.883655         0.001465  \n",
              "3          0.928726         0.001664  \n",
              "\n",
              "[4 rows x 21 columns]"
            ],
            "text/html": [
              "\n",
              "  <div id=\"df-2033ccaf-262a-4e5b-ad3b-30efb6c0c7ce\">\n",
              "    <div class=\"colab-df-container\">\n",
              "      <div>\n",
              "<style scoped>\n",
              "    .dataframe tbody tr th:only-of-type {\n",
              "        vertical-align: middle;\n",
              "    }\n",
              "\n",
              "    .dataframe tbody tr th {\n",
              "        vertical-align: top;\n",
              "    }\n",
              "\n",
              "    .dataframe thead th {\n",
              "        text-align: right;\n",
              "    }\n",
              "</style>\n",
              "<table border=\"1\" class=\"dataframe\">\n",
              "  <thead>\n",
              "    <tr style=\"text-align: right;\">\n",
              "      <th></th>\n",
              "      <th>mean_fit_time</th>\n",
              "      <th>std_fit_time</th>\n",
              "      <th>mean_score_time</th>\n",
              "      <th>std_score_time</th>\n",
              "      <th>param_max_depth</th>\n",
              "      <th>params</th>\n",
              "      <th>split0_test_score</th>\n",
              "      <th>split1_test_score</th>\n",
              "      <th>split2_test_score</th>\n",
              "      <th>split3_test_score</th>\n",
              "      <th>...</th>\n",
              "      <th>mean_test_score</th>\n",
              "      <th>std_test_score</th>\n",
              "      <th>rank_test_score</th>\n",
              "      <th>split0_train_score</th>\n",
              "      <th>split1_train_score</th>\n",
              "      <th>split2_train_score</th>\n",
              "      <th>split3_train_score</th>\n",
              "      <th>split4_train_score</th>\n",
              "      <th>mean_train_score</th>\n",
              "      <th>std_train_score</th>\n",
              "    </tr>\n",
              "  </thead>\n",
              "  <tbody>\n",
              "    <tr>\n",
              "      <th>0</th>\n",
              "      <td>0.910639</td>\n",
              "      <td>0.016111</td>\n",
              "      <td>0.033301</td>\n",
              "      <td>0.000556</td>\n",
              "      <td>2</td>\n",
              "      <td>{'max_depth': 2}</td>\n",
              "      <td>0.797381</td>\n",
              "      <td>0.800000</td>\n",
              "      <td>0.800714</td>\n",
              "      <td>0.795000</td>\n",
              "      <td>...</td>\n",
              "      <td>0.797810</td>\n",
              "      <td>0.002225</td>\n",
              "      <td>4</td>\n",
              "      <td>0.799643</td>\n",
              "      <td>0.797083</td>\n",
              "      <td>0.800179</td>\n",
              "      <td>0.798631</td>\n",
              "      <td>0.799583</td>\n",
              "      <td>0.799024</td>\n",
              "      <td>0.001091</td>\n",
              "    </tr>\n",
              "    <tr>\n",
              "      <th>1</th>\n",
              "      <td>2.257169</td>\n",
              "      <td>0.013703</td>\n",
              "      <td>0.054022</td>\n",
              "      <td>0.004390</td>\n",
              "      <td>7</td>\n",
              "      <td>{'max_depth': 7}</td>\n",
              "      <td>0.814286</td>\n",
              "      <td>0.821190</td>\n",
              "      <td>0.815714</td>\n",
              "      <td>0.815238</td>\n",
              "      <td>...</td>\n",
              "      <td>0.817190</td>\n",
              "      <td>0.002679</td>\n",
              "      <td>2</td>\n",
              "      <td>0.832500</td>\n",
              "      <td>0.831964</td>\n",
              "      <td>0.831548</td>\n",
              "      <td>0.834940</td>\n",
              "      <td>0.832798</td>\n",
              "      <td>0.832750</td>\n",
              "      <td>0.001177</td>\n",
              "    </tr>\n",
              "    <tr>\n",
              "      <th>2</th>\n",
              "      <td>3.449443</td>\n",
              "      <td>0.019346</td>\n",
              "      <td>0.073850</td>\n",
              "      <td>0.003148</td>\n",
              "      <td>12</td>\n",
              "      <td>{'max_depth': 12}</td>\n",
              "      <td>0.818095</td>\n",
              "      <td>0.819762</td>\n",
              "      <td>0.820000</td>\n",
              "      <td>0.812857</td>\n",
              "      <td>...</td>\n",
              "      <td>0.817238</td>\n",
              "      <td>0.002721</td>\n",
              "      <td>1</td>\n",
              "      <td>0.883214</td>\n",
              "      <td>0.882143</td>\n",
              "      <td>0.882202</td>\n",
              "      <td>0.884940</td>\n",
              "      <td>0.885774</td>\n",
              "      <td>0.883655</td>\n",
              "      <td>0.001465</td>\n",
              "    </tr>\n",
              "    <tr>\n",
              "      <th>3</th>\n",
              "      <td>4.313730</td>\n",
              "      <td>0.027981</td>\n",
              "      <td>0.092797</td>\n",
              "      <td>0.001166</td>\n",
              "      <td>17</td>\n",
              "      <td>{'max_depth': 17}</td>\n",
              "      <td>0.813095</td>\n",
              "      <td>0.814762</td>\n",
              "      <td>0.820238</td>\n",
              "      <td>0.810000</td>\n",
              "      <td>...</td>\n",
              "      <td>0.814905</td>\n",
              "      <td>0.003409</td>\n",
              "      <td>3</td>\n",
              "      <td>0.926488</td>\n",
              "      <td>0.927798</td>\n",
              "      <td>0.931488</td>\n",
              "      <td>0.929286</td>\n",
              "      <td>0.928571</td>\n",
              "      <td>0.928726</td>\n",
              "      <td>0.001664</td>\n",
              "    </tr>\n",
              "  </tbody>\n",
              "</table>\n",
              "<p>4 rows × 21 columns</p>\n",
              "</div>\n",
              "      <button class=\"colab-df-convert\" onclick=\"convertToInteractive('df-2033ccaf-262a-4e5b-ad3b-30efb6c0c7ce')\"\n",
              "              title=\"Convert this dataframe to an interactive table.\"\n",
              "              style=\"display:none;\">\n",
              "        \n",
              "  <svg xmlns=\"http://www.w3.org/2000/svg\" height=\"24px\"viewBox=\"0 0 24 24\"\n",
              "       width=\"24px\">\n",
              "    <path d=\"M0 0h24v24H0V0z\" fill=\"none\"/>\n",
              "    <path d=\"M18.56 5.44l.94 2.06.94-2.06 2.06-.94-2.06-.94-.94-2.06-.94 2.06-2.06.94zm-11 1L8.5 8.5l.94-2.06 2.06-.94-2.06-.94L8.5 2.5l-.94 2.06-2.06.94zm10 10l.94 2.06.94-2.06 2.06-.94-2.06-.94-.94-2.06-.94 2.06-2.06.94z\"/><path d=\"M17.41 7.96l-1.37-1.37c-.4-.4-.92-.59-1.43-.59-.52 0-1.04.2-1.43.59L10.3 9.45l-7.72 7.72c-.78.78-.78 2.05 0 2.83L4 21.41c.39.39.9.59 1.41.59.51 0 1.02-.2 1.41-.59l7.78-7.78 2.81-2.81c.8-.78.8-2.07 0-2.86zM5.41 20L4 18.59l7.72-7.72 1.47 1.35L5.41 20z\"/>\n",
              "  </svg>\n",
              "      </button>\n",
              "      \n",
              "  <style>\n",
              "    .colab-df-container {\n",
              "      display:flex;\n",
              "      flex-wrap:wrap;\n",
              "      gap: 12px;\n",
              "    }\n",
              "\n",
              "    .colab-df-convert {\n",
              "      background-color: #E8F0FE;\n",
              "      border: none;\n",
              "      border-radius: 50%;\n",
              "      cursor: pointer;\n",
              "      display: none;\n",
              "      fill: #1967D2;\n",
              "      height: 32px;\n",
              "      padding: 0 0 0 0;\n",
              "      width: 32px;\n",
              "    }\n",
              "\n",
              "    .colab-df-convert:hover {\n",
              "      background-color: #E2EBFA;\n",
              "      box-shadow: 0px 1px 2px rgba(60, 64, 67, 0.3), 0px 1px 3px 1px rgba(60, 64, 67, 0.15);\n",
              "      fill: #174EA6;\n",
              "    }\n",
              "\n",
              "    [theme=dark] .colab-df-convert {\n",
              "      background-color: #3B4455;\n",
              "      fill: #D2E3FC;\n",
              "    }\n",
              "\n",
              "    [theme=dark] .colab-df-convert:hover {\n",
              "      background-color: #434B5C;\n",
              "      box-shadow: 0px 1px 3px 1px rgba(0, 0, 0, 0.15);\n",
              "      filter: drop-shadow(0px 1px 2px rgba(0, 0, 0, 0.3));\n",
              "      fill: #FFFFFF;\n",
              "    }\n",
              "  </style>\n",
              "\n",
              "      <script>\n",
              "        const buttonEl =\n",
              "          document.querySelector('#df-2033ccaf-262a-4e5b-ad3b-30efb6c0c7ce button.colab-df-convert');\n",
              "        buttonEl.style.display =\n",
              "          google.colab.kernel.accessAllowed ? 'block' : 'none';\n",
              "\n",
              "        async function convertToInteractive(key) {\n",
              "          const element = document.querySelector('#df-2033ccaf-262a-4e5b-ad3b-30efb6c0c7ce');\n",
              "          const dataTable =\n",
              "            await google.colab.kernel.invokeFunction('convertToInteractive',\n",
              "                                                     [key], {});\n",
              "          if (!dataTable) return;\n",
              "\n",
              "          const docLinkHtml = 'Like what you see? Visit the ' +\n",
              "            '<a target=\"_blank\" href=https://colab.research.google.com/notebooks/data_table.ipynb>data table notebook</a>'\n",
              "            + ' to learn more about interactive tables.';\n",
              "          element.innerHTML = '';\n",
              "          dataTable['output_type'] = 'display_data';\n",
              "          await google.colab.output.renderOutput(dataTable, element);\n",
              "          const docLink = document.createElement('div');\n",
              "          docLink.innerHTML = docLinkHtml;\n",
              "          element.appendChild(docLink);\n",
              "        }\n",
              "      </script>\n",
              "    </div>\n",
              "  </div>\n",
              "  "
            ]
          },
          "metadata": {},
          "execution_count": 69
        }
      ]
    },
    {
      "cell_type": "code",
      "source": [
        "# plotting accuracies with max_depth\n",
        "plt.figure()\n",
        "plt.plot(scores[\"param_max_depth\"], \n",
        "         scores[\"mean_train_score\"], \n",
        "         label=\"training accuracy\")\n",
        "plt.plot(scores[\"param_max_depth\"], \n",
        "         scores[\"mean_test_score\"], \n",
        "         label=\"test accuracy\")\n",
        "plt.xlabel(\"max_depth\")\n",
        "plt.ylabel(\"Accuracy\")\n",
        "plt.legend()\n",
        "plt.show()"
      ],
      "metadata": {
        "colab": {
          "base_uri": "https://localhost:8080/",
          "height": 280
        },
        "id": "hfisw7I3WVT9",
        "outputId": "601f46ef-8d7c-43dc-c053-789843205f9c"
      },
      "execution_count": null,
      "outputs": [
        {
          "output_type": "display_data",
          "data": {
            "text/plain": [
              "<Figure size 432x288 with 1 Axes>"
            ],
            "image/png": "[encoded data removed]"
          },
          "metadata": {
            "needs_background": "light"
          }
        }
      ]
    },
    {
      "cell_type": "code",
      "source": [
        "# specify number of folds for k-fold CV\n",
        "n_folds = 5\n",
        "\n",
        "# parameters to build the model on\n",
        "parameters = {'n_estimators': range(100, 1500, 400)}\n",
        "\n",
        "# instantiate the model (note we are specifying a max_depth)\n",
        "rf = RandomForestClassifier(max_depth=4)"
      ],
      "metadata": {
        "id": "GK-9NknMWYrG"
      },
      "execution_count": null,
      "outputs": []
    },
    {
      "cell_type": "code",
      "source": [
        "# fit tree on training data\n",
        "rf = GridSearchCV(rf, parameters, \n",
        "                    cv=n_folds, \n",
        "                   scoring=\"accuracy\",\n",
        "                 return_train_score=True)\n",
        "rf.fit(X_train, y_train)"
      ],
      "metadata": {
        "colab": {
          "base_uri": "https://localhost:8080/"
        },
        "id": "g6_AKKIGWgVY",
        "outputId": "5d6e52af-34d2-489e-fc2d-fc5c7ecea12a"
      },
      "execution_count": null,
      "outputs": [
        {
          "output_type": "execute_result",
          "data": {
            "text/plain": [
              "GridSearchCV(cv=5, estimator=RandomForestClassifier(max_depth=4),\n",
              "             param_grid={'n_estimators': range(100, 1500, 400)},\n",
              "             return_train_score=True, scoring='accuracy')"
            ]
          },
          "metadata": {},
          "execution_count": 72
        }
      ]
    },
    {
      "cell_type": "code",
      "source": [
        "# scores of GridSearch CV\n",
        "scores = rf.cv_results_\n",
        "pd.DataFrame(scores).head()"
      ],
      "metadata": {
        "colab": {
          "base_uri": "https://localhost:8080/",
          "height": 338
        },
        "id": "1Q1uatGCWi--",
        "outputId": "1dae3b85-222d-4a82-cacb-cce282e44070"
      },
      "execution_count": null,
      "outputs": [
        {
          "output_type": "execute_result",
          "data": {
            "text/plain": [
              "   mean_fit_time  std_fit_time  mean_score_time  std_score_time  \\\n",
              "0       1.461499      0.017428         0.039357        0.000604   \n",
              "1       7.263124      0.047070         0.186254        0.005211   \n",
              "2      13.081913      0.041090         0.330326        0.004675   \n",
              "3      18.955167      0.180777         0.481946        0.007178   \n",
              "\n",
              "  param_n_estimators                  params  split0_test_score  \\\n",
              "0                100   {'n_estimators': 100}           0.813810   \n",
              "1                500   {'n_estimators': 500}           0.814286   \n",
              "2                900   {'n_estimators': 900}           0.812619   \n",
              "3               1300  {'n_estimators': 1300}           0.810952   \n",
              "\n",
              "   split1_test_score  split2_test_score  split3_test_score  ...  \\\n",
              "0           0.812381           0.811667           0.806190  ...   \n",
              "1           0.815238           0.811190           0.805238  ...   \n",
              "2           0.814524           0.811190           0.805000  ...   \n",
              "3           0.814524           0.811190           0.805714  ...   \n",
              "\n",
              "   mean_test_score  std_test_score  rank_test_score  split0_train_score  \\\n",
              "0         0.810476        0.002797                2            0.812500   \n",
              "1         0.810762        0.003784                1            0.812262   \n",
              "2         0.810238        0.003407                3            0.811310   \n",
              "3         0.810143        0.002961                4            0.811012   \n",
              "\n",
              "   split1_train_score  split2_train_score  split3_train_score  \\\n",
              "0            0.810238            0.812619            0.813452   \n",
              "1            0.811012            0.812262            0.812679   \n",
              "2            0.809881            0.811429            0.812738   \n",
              "3            0.809464            0.811845            0.812857   \n",
              "\n",
              "   split4_train_score  mean_train_score  std_train_score  \n",
              "0            0.811905          0.812143         0.001073  \n",
              "1            0.812381          0.812119         0.000574  \n",
              "2            0.812679          0.811607         0.001051  \n",
              "3            0.812738          0.811583         0.001252  \n",
              "\n",
              "[4 rows x 21 columns]"
            ],
            "text/html": [
              "\n",
              "  <div id=\"df-540f90b7-625e-427d-9555-c2d731e402e4\">\n",
              "    <div class=\"colab-df-container\">\n",
              "      <div>\n",
              "<style scoped>\n",
              "    .dataframe tbody tr th:only-of-type {\n",
              "        vertical-align: middle;\n",
              "    }\n",
              "\n",
              "    .dataframe tbody tr th {\n",
              "        vertical-align: top;\n",
              "    }\n",
              "\n",
              "    .dataframe thead th {\n",
              "        text-align: right;\n",
              "    }\n",
              "</style>\n",
              "<table border=\"1\" class=\"dataframe\">\n",
              "  <thead>\n",
              "    <tr style=\"text-align: right;\">\n",
              "      <th></th>\n",
              "      <th>mean_fit_time</th>\n",
              "      <th>std_fit_time</th>\n",
              "      <th>mean_score_time</th>\n",
              "      <th>std_score_time</th>\n",
              "      <th>param_n_estimators</th>\n",
              "      <th>params</th>\n",
              "      <th>split0_test_score</th>\n",
              "      <th>split1_test_score</th>\n",
              "      <th>split2_test_score</th>\n",
              "      <th>split3_test_score</th>\n",
              "      <th>...</th>\n",
              "      <th>mean_test_score</th>\n",
              "      <th>std_test_score</th>\n",
              "      <th>rank_test_score</th>\n",
              "      <th>split0_train_score</th>\n",
              "      <th>split1_train_score</th>\n",
              "      <th>split2_train_score</th>\n",
              "      <th>split3_train_score</th>\n",
              "      <th>split4_train_score</th>\n",
              "      <th>mean_train_score</th>\n",
              "      <th>std_train_score</th>\n",
              "    </tr>\n",
              "  </thead>\n",
              "  <tbody>\n",
              "    <tr>\n",
              "      <th>0</th>\n",
              "      <td>1.461499</td>\n",
              "      <td>0.017428</td>\n",
              "      <td>0.039357</td>\n",
              "      <td>0.000604</td>\n",
              "      <td>100</td>\n",
              "      <td>{'n_estimators': 100}</td>\n",
              "      <td>0.813810</td>\n",
              "      <td>0.812381</td>\n",
              "      <td>0.811667</td>\n",
              "      <td>0.806190</td>\n",
              "      <td>...</td>\n",
              "      <td>0.810476</td>\n",
              "      <td>0.002797</td>\n",
              "      <td>2</td>\n",
              "      <td>0.812500</td>\n",
              "      <td>0.810238</td>\n",
              "      <td>0.812619</td>\n",
              "      <td>0.813452</td>\n",
              "      <td>0.811905</td>\n",
              "      <td>0.812143</td>\n",
              "      <td>0.001073</td>\n",
              "    </tr>\n",
              "    <tr>\n",
              "      <th>1</th>\n",
              "      <td>7.263124</td>\n",
              "      <td>0.047070</td>\n",
              "      <td>0.186254</td>\n",
              "      <td>0.005211</td>\n",
              "      <td>500</td>\n",
              "      <td>{'n_estimators': 500}</td>\n",
              "      <td>0.814286</td>\n",
              "      <td>0.815238</td>\n",
              "      <td>0.811190</td>\n",
              "      <td>0.805238</td>\n",
              "      <td>...</td>\n",
              "      <td>0.810762</td>\n",
              "      <td>0.003784</td>\n",
              "      <td>1</td>\n",
              "      <td>0.812262</td>\n",
              "      <td>0.811012</td>\n",
              "      <td>0.812262</td>\n",
              "      <td>0.812679</td>\n",
              "      <td>0.812381</td>\n",
              "      <td>0.812119</td>\n",
              "      <td>0.000574</td>\n",
              "    </tr>\n",
              "    <tr>\n",
              "      <th>2</th>\n",
              "      <td>13.081913</td>\n",
              "      <td>0.041090</td>\n",
              "      <td>0.330326</td>\n",
              "      <td>0.004675</td>\n",
              "      <td>900</td>\n",
              "      <td>{'n_estimators': 900}</td>\n",
              "      <td>0.812619</td>\n",
              "      <td>0.814524</td>\n",
              "      <td>0.811190</td>\n",
              "      <td>0.805000</td>\n",
              "      <td>...</td>\n",
              "      <td>0.810238</td>\n",
              "      <td>0.003407</td>\n",
              "      <td>3</td>\n",
              "      <td>0.811310</td>\n",
              "      <td>0.809881</td>\n",
              "      <td>0.811429</td>\n",
              "      <td>0.812738</td>\n",
              "      <td>0.812679</td>\n",
              "      <td>0.811607</td>\n",
              "      <td>0.001051</td>\n",
              "    </tr>\n",
              "    <tr>\n",
              "      <th>3</th>\n",
              "      <td>18.955167</td>\n",
              "      <td>0.180777</td>\n",
              "      <td>0.481946</td>\n",
              "      <td>0.007178</td>\n",
              "      <td>1300</td>\n",
              "      <td>{'n_estimators': 1300}</td>\n",
              "      <td>0.810952</td>\n",
              "      <td>0.814524</td>\n",
              "      <td>0.811190</td>\n",
              "      <td>0.805714</td>\n",
              "      <td>...</td>\n",
              "      <td>0.810143</td>\n",
              "      <td>0.002961</td>\n",
              "      <td>4</td>\n",
              "      <td>0.811012</td>\n",
              "      <td>0.809464</td>\n",
              "      <td>0.811845</td>\n",
              "      <td>0.812857</td>\n",
              "      <td>0.812738</td>\n",
              "      <td>0.811583</td>\n",
              "      <td>0.001252</td>\n",
              "    </tr>\n",
              "  </tbody>\n",
              "</table>\n",
              "<p>4 rows × 21 columns</p>\n",
              "</div>\n",
              "      <button class=\"colab-df-convert\" onclick=\"convertToInteractive('df-540f90b7-625e-427d-9555-c2d731e402e4')\"\n",
              "              title=\"Convert this dataframe to an interactive table.\"\n",
              "              style=\"display:none;\">\n",
              "        \n",
              "  <svg xmlns=\"http://www.w3.org/2000/svg\" height=\"24px\"viewBox=\"0 0 24 24\"\n",
              "       width=\"24px\">\n",
              "    <path d=\"M0 0h24v24H0V0z\" fill=\"none\"/>\n",
              "    <path d=\"M18.56 5.44l.94 2.06.94-2.06 2.06-.94-2.06-.94-.94-2.06-.94 2.06-2.06.94zm-11 1L8.5 8.5l.94-2.06 2.06-.94-2.06-.94L8.5 2.5l-.94 2.06-2.06.94zm10 10l.94 2.06.94-2.06 2.06-.94-2.06-.94-.94-2.06-.94 2.06-2.06.94z\"/><path d=\"M17.41 7.96l-1.37-1.37c-.4-.4-.92-.59-1.43-.59-.52 0-1.04.2-1.43.59L10.3 9.45l-7.72 7.72c-.78.78-.78 2.05 0 2.83L4 21.41c.39.39.9.59 1.41.59.51 0 1.02-.2 1.41-.59l7.78-7.78 2.81-2.81c.8-.78.8-2.07 0-2.86zM5.41 20L4 18.59l7.72-7.72 1.47 1.35L5.41 20z\"/>\n",
              "  </svg>\n",
              "      </button>\n",
              "      \n",
              "  <style>\n",
              "    .colab-df-container {\n",
              "      display:flex;\n",
              "      flex-wrap:wrap;\n",
              "      gap: 12px;\n",
              "    }\n",
              "\n",
              "    .colab-df-convert {\n",
              "      background-color: #E8F0FE;\n",
              "      border: none;\n",
              "      border-radius: 50%;\n",
              "      cursor: pointer;\n",
              "      display: none;\n",
              "      fill: #1967D2;\n",
              "      height: 32px;\n",
              "      padding: 0 0 0 0;\n",
              "      width: 32px;\n",
              "    }\n",
              "\n",
              "    .colab-df-convert:hover {\n",
              "      background-color: #E2EBFA;\n",
              "      box-shadow: 0px 1px 2px rgba(60, 64, 67, 0.3), 0px 1px 3px 1px rgba(60, 64, 67, 0.15);\n",
              "      fill: #174EA6;\n",
              "    }\n",
              "\n",
              "    [theme=dark] .colab-df-convert {\n",
              "      background-color: #3B4455;\n",
              "      fill: #D2E3FC;\n",
              "    }\n",
              "\n",
              "    [theme=dark] .colab-df-convert:hover {\n",
              "      background-color: #434B5C;\n",
              "      box-shadow: 0px 1px 3px 1px rgba(0, 0, 0, 0.15);\n",
              "      filter: drop-shadow(0px 1px 2px rgba(0, 0, 0, 0.3));\n",
              "      fill: #FFFFFF;\n",
              "    }\n",
              "  </style>\n",
              "\n",
              "      <script>\n",
              "        const buttonEl =\n",
              "          document.querySelector('#df-540f90b7-625e-427d-9555-c2d731e402e4 button.colab-df-convert');\n",
              "        buttonEl.style.display =\n",
              "          google.colab.kernel.accessAllowed ? 'block' : 'none';\n",
              "\n",
              "        async function convertToInteractive(key) {\n",
              "          const element = document.querySelector('#df-540f90b7-625e-427d-9555-c2d731e402e4');\n",
              "          const dataTable =\n",
              "            await google.colab.kernel.invokeFunction('convertToInteractive',\n",
              "                                                     [key], {});\n",
              "          if (!dataTable) return;\n",
              "\n",
              "          const docLinkHtml = 'Like what you see? Visit the ' +\n",
              "            '<a target=\"_blank\" href=https://colab.research.google.com/notebooks/data_table.ipynb>data table notebook</a>'\n",
              "            + ' to learn more about interactive tables.';\n",
              "          element.innerHTML = '';\n",
              "          dataTable['output_type'] = 'display_data';\n",
              "          await google.colab.output.renderOutput(dataTable, element);\n",
              "          const docLink = document.createElement('div');\n",
              "          docLink.innerHTML = docLinkHtml;\n",
              "          element.appendChild(docLink);\n",
              "        }\n",
              "      </script>\n",
              "    </div>\n",
              "  </div>\n",
              "  "
            ]
          },
          "metadata": {},
          "execution_count": 73
        }
      ]
    },
    {
      "cell_type": "code",
      "source": [
        "# plotting accuracies with n_estimators\n",
        "plt.figure()\n",
        "plt.plot(scores[\"param_n_estimators\"], \n",
        "         scores[\"mean_train_score\"], \n",
        "         label=\"training accuracy\")\n",
        "plt.plot(scores[\"param_n_estimators\"], \n",
        "         scores[\"mean_test_score\"], \n",
        "         label=\"test accuracy\")\n",
        "plt.xlabel(\"n_estimators\")\n",
        "plt.ylabel(\"Accuracy\")\n",
        "plt.legend()\n",
        "plt.show()"
      ],
      "metadata": {
        "colab": {
          "base_uri": "https://localhost:8080/",
          "height": 280
        },
        "id": "GmixD2vdWmsQ",
        "outputId": "553bd927-03f2-4b04-9ed5-b6f487941161"
      },
      "execution_count": null,
      "outputs": [
        {
          "output_type": "display_data",
          "data": {
            "text/plain": [
              "<Figure size 432x288 with 1 Axes>"
            ],
            "image/png": "[encoded data removed]"
          },
          "metadata": {
            "needs_background": "light"
          }
        }
      ]
    },
    {
      "cell_type": "code",
      "source": [
        "# Let's see how the model performance varies with ```max_features```, which is the maximum numbre of features considered for splitting at a node.\n",
        "# specify number of folds for k-fold CV\n",
        "n_folds = 5\n",
        "\n",
        "# parameters to build the model on\n",
        "parameters = {'max_features': [4, 8, 14, 20, 24]}"
      ],
      "metadata": {
        "id": "XVHTg108Wp4U"
      },
      "execution_count": null,
      "outputs": []
    },
    {
      "cell_type": "code",
      "source": [
        "# instantiate the model\n",
        "rf = RandomForestClassifier(max_depth=4)\n"
      ],
      "metadata": {
        "id": "DWVY8UloWzbc"
      },
      "execution_count": null,
      "outputs": []
    },
    {
      "cell_type": "code",
      "source": [
        "# fit tree on training data\n",
        "rf = GridSearchCV(rf, parameters, \n",
        "                    cv=n_folds, \n",
        "                   scoring=\"accuracy\",\n",
        "                 return_train_score=True)\n",
        "rf.fit(X_train, y_train)"
      ],
      "metadata": {
        "colab": {
          "base_uri": "https://localhost:8080/"
        },
        "id": "H46zpISsXMo0",
        "outputId": "f92b286b-8894-42da-d3e9-a27e2b5d26ff"
      },
      "execution_count": null,
      "outputs": [
        {
          "output_type": "execute_result",
          "data": {
            "text/plain": [
              "GridSearchCV(cv=5, estimator=RandomForestClassifier(max_depth=4),\n",
              "             param_grid={'max_features': [4, 8, 14, 20, 24]},\n",
              "             return_train_score=True, scoring='accuracy')"
            ]
          },
          "metadata": {},
          "execution_count": 77
        }
      ]
    },
    {
      "cell_type": "code",
      "source": [
        "# scores of GridSearch CV\n",
        "scores = rf.cv_results_\n",
        "pd.DataFrame(scores).head()\n"
      ],
      "metadata": {
        "colab": {
          "base_uri": "https://localhost:8080/",
          "height": 386
        },
        "id": "GG-r92GnXNRa",
        "outputId": "fc4b5953-0437-40a2-9253-b530657d5229"
      },
      "execution_count": null,
      "outputs": [
        {
          "output_type": "execute_result",
          "data": {
            "text/plain": [
              "   mean_fit_time  std_fit_time  mean_score_time  std_score_time  \\\n",
              "0       1.466177      0.016850         0.039469        0.000503   \n",
              "1       2.542185      0.016500         0.041441        0.002373   \n",
              "2       4.092700      0.019708         0.039098        0.000656   \n",
              "3       5.710698      0.016342         0.038640        0.000469   \n",
              "4       0.044608      0.001064         0.000000        0.000000   \n",
              "\n",
              "  param_max_features                params  split0_test_score  \\\n",
              "0                  4   {'max_features': 4}           0.811667   \n",
              "1                  8   {'max_features': 8}           0.817619   \n",
              "2                 14  {'max_features': 14}           0.816905   \n",
              "3                 20  {'max_features': 20}           0.817857   \n",
              "4                 24  {'max_features': 24}                NaN   \n",
              "\n",
              "   split1_test_score  split2_test_score  split3_test_score  ...  \\\n",
              "0           0.814048           0.811429           0.806667  ...   \n",
              "1           0.820952           0.820476           0.817619  ...   \n",
              "2           0.821190           0.818095           0.817619  ...   \n",
              "3           0.821905           0.820238           0.817619  ...   \n",
              "4                NaN                NaN                NaN  ...   \n",
              "\n",
              "   mean_test_score  std_test_score  rank_test_score  split0_train_score  \\\n",
              "0         0.810000        0.003060                4            0.810774   \n",
              "1         0.819190        0.001393                1            0.821369   \n",
              "2         0.818524        0.001471                3            0.822143   \n",
              "3         0.819000        0.001778                2            0.822976   \n",
              "4              NaN             NaN                5                 NaN   \n",
              "\n",
              "   split1_train_score  split2_train_score  split3_train_score  \\\n",
              "0            0.810119            0.812500            0.813214   \n",
              "1            0.820298            0.821667            0.821845   \n",
              "2            0.820655            0.821667            0.822262   \n",
              "3            0.821012            0.821905            0.822262   \n",
              "4                 NaN                 NaN                 NaN   \n",
              "\n",
              "   split4_train_score  mean_train_score  std_train_score  \n",
              "0            0.811310          0.811583         0.001129  \n",
              "1            0.820833          0.821202         0.000568  \n",
              "2            0.822500          0.821845         0.000654  \n",
              "3            0.823274          0.822286         0.000803  \n",
              "4                 NaN               NaN              NaN  \n",
              "\n",
              "[5 rows x 21 columns]"
            ],
            "text/html": [
              "\n",
              "  <div id=\"df-1a2db7e4-ccb6-4a74-a5f9-07205afac423\">\n",
              "    <div class=\"colab-df-container\">\n",
              "      <div>\n",
              "<style scoped>\n",
              "    .dataframe tbody tr th:only-of-type {\n",
              "        vertical-align: middle;\n",
              "    }\n",
              "\n",
              "    .dataframe tbody tr th {\n",
              "        vertical-align: top;\n",
              "    }\n",
              "\n",
              "    .dataframe thead th {\n",
              "        text-align: right;\n",
              "    }\n",
              "</style>\n",
              "<table border=\"1\" class=\"dataframe\">\n",
              "  <thead>\n",
              "    <tr style=\"text-align: right;\">\n",
              "      <th></th>\n",
              "      <th>mean_fit_time</th>\n",
              "      <th>std_fit_time</th>\n",
              "      <th>mean_score_time</th>\n",
              "      <th>std_score_time</th>\n",
              "      <th>param_max_features</th>\n",
              "      <th>params</th>\n",
              "      <th>split0_test_score</th>\n",
              "      <th>split1_test_score</th>\n",
              "      <th>split2_test_score</th>\n",
              "      <th>split3_test_score</th>\n",
              "      <th>...</th>\n",
              "      <th>mean_test_score</th>\n",
              "      <th>std_test_score</th>\n",
              "      <th>rank_test_score</th>\n",
              "      <th>split0_train_score</th>\n",
              "      <th>split1_train_score</th>\n",
              "      <th>split2_train_score</th>\n",
              "      <th>split3_train_score</th>\n",
              "      <th>split4_train_score</th>\n",
              "      <th>mean_train_score</th>\n",
              "      <th>std_train_score</th>\n",
              "    </tr>\n",
              "  </thead>\n",
              "  <tbody>\n",
              "    <tr>\n",
              "      <th>0</th>\n",
              "      <td>1.466177</td>\n",
              "      <td>0.016850</td>\n",
              "      <td>0.039469</td>\n",
              "      <td>0.000503</td>\n",
              "      <td>4</td>\n",
              "      <td>{'max_features': 4}</td>\n",
              "      <td>0.811667</td>\n",
              "      <td>0.814048</td>\n",
              "      <td>0.811429</td>\n",
              "      <td>0.806667</td>\n",
              "      <td>...</td>\n",
              "      <td>0.810000</td>\n",
              "      <td>0.003060</td>\n",
              "      <td>4</td>\n",
              "      <td>0.810774</td>\n",
              "      <td>0.810119</td>\n",
              "      <td>0.812500</td>\n",
              "      <td>0.813214</td>\n",
              "      <td>0.811310</td>\n",
              "      <td>0.811583</td>\n",
              "      <td>0.001129</td>\n",
              "    </tr>\n",
              "    <tr>\n",
              "      <th>1</th>\n",
              "      <td>2.542185</td>\n",
              "      <td>0.016500</td>\n",
              "      <td>0.041441</td>\n",
              "      <td>0.002373</td>\n",
              "      <td>8</td>\n",
              "      <td>{'max_features': 8}</td>\n",
              "      <td>0.817619</td>\n",
              "      <td>0.820952</td>\n",
              "      <td>0.820476</td>\n",
              "      <td>0.817619</td>\n",
              "      <td>...</td>\n",
              "      <td>0.819190</td>\n",
              "      <td>0.001393</td>\n",
              "      <td>1</td>\n",
              "      <td>0.821369</td>\n",
              "      <td>0.820298</td>\n",
              "      <td>0.821667</td>\n",
              "      <td>0.821845</td>\n",
              "      <td>0.820833</td>\n",
              "      <td>0.821202</td>\n",
              "      <td>0.000568</td>\n",
              "    </tr>\n",
              "    <tr>\n",
              "      <th>2</th>\n",
              "      <td>4.092700</td>\n",
              "      <td>0.019708</td>\n",
              "      <td>0.039098</td>\n",
              "      <td>0.000656</td>\n",
              "      <td>14</td>\n",
              "      <td>{'max_features': 14}</td>\n",
              "      <td>0.816905</td>\n",
              "      <td>0.821190</td>\n",
              "      <td>0.818095</td>\n",
              "      <td>0.817619</td>\n",
              "      <td>...</td>\n",
              "      <td>0.818524</td>\n",
              "      <td>0.001471</td>\n",
              "      <td>3</td>\n",
              "      <td>0.822143</td>\n",
              "      <td>0.820655</td>\n",
              "      <td>0.821667</td>\n",
              "      <td>0.822262</td>\n",
              "      <td>0.822500</td>\n",
              "      <td>0.821845</td>\n",
              "      <td>0.000654</td>\n",
              "    </tr>\n",
              "    <tr>\n",
              "      <th>3</th>\n",
              "      <td>5.710698</td>\n",
              "      <td>0.016342</td>\n",
              "      <td>0.038640</td>\n",
              "      <td>0.000469</td>\n",
              "      <td>20</td>\n",
              "      <td>{'max_features': 20}</td>\n",
              "      <td>0.817857</td>\n",
              "      <td>0.821905</td>\n",
              "      <td>0.820238</td>\n",
              "      <td>0.817619</td>\n",
              "      <td>...</td>\n",
              "      <td>0.819000</td>\n",
              "      <td>0.001778</td>\n",
              "      <td>2</td>\n",
              "      <td>0.822976</td>\n",
              "      <td>0.821012</td>\n",
              "      <td>0.821905</td>\n",
              "      <td>0.822262</td>\n",
              "      <td>0.823274</td>\n",
              "      <td>0.822286</td>\n",
              "      <td>0.000803</td>\n",
              "    </tr>\n",
              "    <tr>\n",
              "      <th>4</th>\n",
              "      <td>0.044608</td>\n",
              "      <td>0.001064</td>\n",
              "      <td>0.000000</td>\n",
              "      <td>0.000000</td>\n",
              "      <td>24</td>\n",
              "      <td>{'max_features': 24}</td>\n",
              "      <td>NaN</td>\n",
              "      <td>NaN</td>\n",
              "      <td>NaN</td>\n",
              "      <td>NaN</td>\n",
              "      <td>...</td>\n",
              "      <td>NaN</td>\n",
              "      <td>NaN</td>\n",
              "      <td>5</td>\n",
              "      <td>NaN</td>\n",
              "      <td>NaN</td>\n",
              "      <td>NaN</td>\n",
              "      <td>NaN</td>\n",
              "      <td>NaN</td>\n",
              "      <td>NaN</td>\n",
              "      <td>NaN</td>\n",
              "    </tr>\n",
              "  </tbody>\n",
              "</table>\n",
              "<p>5 rows × 21 columns</p>\n",
              "</div>\n",
              "      <button class=\"colab-df-convert\" onclick=\"convertToInteractive('df-1a2db7e4-ccb6-4a74-a5f9-07205afac423')\"\n",
              "              title=\"Convert this dataframe to an interactive table.\"\n",
              "              style=\"display:none;\">\n",
              "        \n",
              "  <svg xmlns=\"http://www.w3.org/2000/svg\" height=\"24px\"viewBox=\"0 0 24 24\"\n",
              "       width=\"24px\">\n",
              "    <path d=\"M0 0h24v24H0V0z\" fill=\"none\"/>\n",
              "    <path d=\"M18.56 5.44l.94 2.06.94-2.06 2.06-.94-2.06-.94-.94-2.06-.94 2.06-2.06.94zm-11 1L8.5 8.5l.94-2.06 2.06-.94-2.06-.94L8.5 2.5l-.94 2.06-2.06.94zm10 10l.94 2.06.94-2.06 2.06-.94-2.06-.94-.94-2.06-.94 2.06-2.06.94z\"/><path d=\"M17.41 7.96l-1.37-1.37c-.4-.4-.92-.59-1.43-.59-.52 0-1.04.2-1.43.59L10.3 9.45l-7.72 7.72c-.78.78-.78 2.05 0 2.83L4 21.41c.39.39.9.59 1.41.59.51 0 1.02-.2 1.41-.59l7.78-7.78 2.81-2.81c.8-.78.8-2.07 0-2.86zM5.41 20L4 18.59l7.72-7.72 1.47 1.35L5.41 20z\"/>\n",
              "  </svg>\n",
              "      </button>\n",
              "      \n",
              "  <style>\n",
              "    .colab-df-container {\n",
              "      display:flex;\n",
              "      flex-wrap:wrap;\n",
              "      gap: 12px;\n",
              "    }\n",
              "\n",
              "    .colab-df-convert {\n",
              "      background-color: #E8F0FE;\n",
              "      border: none;\n",
              "      border-radius: 50%;\n",
              "      cursor: pointer;\n",
              "      display: none;\n",
              "      fill: #1967D2;\n",
              "      height: 32px;\n",
              "      padding: 0 0 0 0;\n",
              "      width: 32px;\n",
              "    }\n",
              "\n",
              "    .colab-df-convert:hover {\n",
              "      background-color: #E2EBFA;\n",
              "      box-shadow: 0px 1px 2px rgba(60, 64, 67, 0.3), 0px 1px 3px 1px rgba(60, 64, 67, 0.15);\n",
              "      fill: #174EA6;\n",
              "    }\n",
              "\n",
              "    [theme=dark] .colab-df-convert {\n",
              "      background-color: #3B4455;\n",
              "      fill: #D2E3FC;\n",
              "    }\n",
              "\n",
              "    [theme=dark] .colab-df-convert:hover {\n",
              "      background-color: #434B5C;\n",
              "      box-shadow: 0px 1px 3px 1px rgba(0, 0, 0, 0.15);\n",
              "      filter: drop-shadow(0px 1px 2px rgba(0, 0, 0, 0.3));\n",
              "      fill: #FFFFFF;\n",
              "    }\n",
              "  </style>\n",
              "\n",
              "      <script>\n",
              "        const buttonEl =\n",
              "          document.querySelector('#df-1a2db7e4-ccb6-4a74-a5f9-07205afac423 button.colab-df-convert');\n",
              "        buttonEl.style.display =\n",
              "          google.colab.kernel.accessAllowed ? 'block' : 'none';\n",
              "\n",
              "        async function convertToInteractive(key) {\n",
              "          const element = document.querySelector('#df-1a2db7e4-ccb6-4a74-a5f9-07205afac423');\n",
              "          const dataTable =\n",
              "            await google.colab.kernel.invokeFunction('convertToInteractive',\n",
              "                                                     [key], {});\n",
              "          if (!dataTable) return;\n",
              "\n",
              "          const docLinkHtml = 'Like what you see? Visit the ' +\n",
              "            '<a target=\"_blank\" href=https://colab.research.google.com/notebooks/data_table.ipynb>data table notebook</a>'\n",
              "            + ' to learn more about interactive tables.';\n",
              "          element.innerHTML = '';\n",
              "          dataTable['output_type'] = 'display_data';\n",
              "          await google.colab.output.renderOutput(dataTable, element);\n",
              "          const docLink = document.createElement('div');\n",
              "          docLink.innerHTML = docLinkHtml;\n",
              "          element.appendChild(docLink);\n",
              "        }\n",
              "      </script>\n",
              "    </div>\n",
              "  </div>\n",
              "  "
            ]
          },
          "metadata": {},
          "execution_count": 78
        }
      ]
    },
    {
      "cell_type": "code",
      "source": [
        "# plotting accuracies with max_features\n",
        "plt.figure()\n",
        "plt.plot(scores[\"param_max_features\"], \n",
        "         scores[\"mean_train_score\"], \n",
        "         label=\"training accuracy\")\n",
        "plt.plot(scores[\"param_max_features\"], \n",
        "         scores[\"mean_test_score\"], \n",
        "         label=\"test accuracy\")\n",
        "plt.xlabel(\"max_features\")\n",
        "plt.ylabel(\"Accuracy\")\n",
        "plt.legend()\n",
        "plt.show()\n"
      ],
      "metadata": {
        "colab": {
          "base_uri": "https://localhost:8080/",
          "height": 280
        },
        "id": "k_0ujWIaXQcL",
        "outputId": "11217370-081d-4ef4-b041-b7b9e1b996c0"
      },
      "execution_count": null,
      "outputs": [
        {
          "output_type": "display_data",
          "data": {
            "text/plain": [
              "<Figure size 432x288 with 1 Axes>"
            ],
            "image/png": "[encoded data removed]"
          },
          "metadata": {
            "needs_background": "light"
          }
        }
      ]
    },
    {
      "cell_type": "code",
      "source": [
        "# Let's now check the optimum value for min samples leaf in our case.\n",
        "# specify number of folds for k-fold CV\n",
        "n_folds = 5\n",
        "\n",
        "# parameters to build the model on\n",
        "parameters = {'min_samples_leaf': range(100, 400, 50)}"
      ],
      "metadata": {
        "id": "f-4mBo7PXS6K"
      },
      "execution_count": null,
      "outputs": []
    },
    {
      "cell_type": "code",
      "source": [
        "# instantiate the model\n",
        "rf = RandomForestClassifier()"
      ],
      "metadata": {
        "id": "rj-qBTQOX0hl"
      },
      "execution_count": null,
      "outputs": []
    },
    {
      "cell_type": "code",
      "source": [
        "# fit tree on training data\n",
        "rf = GridSearchCV(rf, parameters, \n",
        "                    cv=n_folds, \n",
        "                   scoring=\"accuracy\",\n",
        "                 return_train_score=True)\n",
        "rf.fit(X_train, y_train)"
      ],
      "metadata": {
        "colab": {
          "base_uri": "https://localhost:8080/"
        },
        "id": "Kk8lukpIX2mv",
        "outputId": "e4d66fa0-4380-4182-f6d0-6c4545d5a3ce"
      },
      "execution_count": null,
      "outputs": [
        {
          "output_type": "execute_result",
          "data": {
            "text/plain": [
              "GridSearchCV(cv=5, estimator=RandomForestClassifier(),\n",
              "             param_grid={'min_samples_leaf': range(100, 400, 50)},\n",
              "             return_train_score=True, scoring='accuracy')"
            ]
          },
          "metadata": {},
          "execution_count": 82
        }
      ]
    },
    {
      "cell_type": "code",
      "source": [
        "# scores of GridSearch CV\n",
        "scores = rf.cv_results_\n",
        "pd.DataFrame(scores).head()"
      ],
      "metadata": {
        "colab": {
          "base_uri": "https://localhost:8080/",
          "height": 386
        },
        "id": "sOx5PcK3X6DQ",
        "outputId": "745137ae-df52-4f54-ec51-34adf31a7ad4"
      },
      "execution_count": null,
      "outputs": [
        {
          "output_type": "execute_result",
          "data": {
            "text/plain": [
              "   mean_fit_time  std_fit_time  mean_score_time  std_score_time  \\\n",
              "0       2.712230      0.033796         0.061624        0.000765   \n",
              "1       2.438685      0.022653         0.056975        0.000965   \n",
              "2       2.256746      0.015388         0.054394        0.000464   \n",
              "3       2.137768      0.020882         0.053139        0.002300   \n",
              "4       2.017692      0.020713         0.052014        0.001703   \n",
              "\n",
              "  param_min_samples_leaf                     params  split0_test_score  \\\n",
              "0                    100  {'min_samples_leaf': 100}           0.813810   \n",
              "1                    150  {'min_samples_leaf': 150}           0.812857   \n",
              "2                    200  {'min_samples_leaf': 200}           0.810476   \n",
              "3                    250  {'min_samples_leaf': 250}           0.810476   \n",
              "4                    300  {'min_samples_leaf': 300}           0.811905   \n",
              "\n",
              "   split1_test_score  split2_test_score  split3_test_score  ...  \\\n",
              "0           0.820714           0.817857           0.811429  ...   \n",
              "1           0.812381           0.819048           0.811429  ...   \n",
              "2           0.812619           0.810952           0.804762  ...   \n",
              "3           0.810952           0.810000           0.804524  ...   \n",
              "4           0.813810           0.807619           0.802381  ...   \n",
              "\n",
              "   mean_test_score  std_test_score  rank_test_score  split0_train_score  \\\n",
              "0         0.815619        0.003274                1            0.816310   \n",
              "1         0.813286        0.002975                2            0.817857   \n",
              "2         0.809381        0.002726                3            0.809464   \n",
              "3         0.808667        0.002412                4            0.808452   \n",
              "4         0.808048        0.004308                5            0.809762   \n",
              "\n",
              "   split1_train_score  split2_train_score  split3_train_score  \\\n",
              "0            0.818155            0.818214            0.817679   \n",
              "1            0.809821            0.817976            0.816012   \n",
              "2            0.809286            0.810536            0.811250   \n",
              "3            0.808810            0.810060            0.811488   \n",
              "4            0.809048            0.809583            0.809107   \n",
              "\n",
              "   split4_train_score  mean_train_score  std_train_score  \n",
              "0            0.818631          0.817798         0.000803  \n",
              "1            0.815536          0.815440         0.002973  \n",
              "2            0.811726          0.810452         0.000959  \n",
              "3            0.810357          0.809833         0.001097  \n",
              "4            0.805952          0.808690         0.001396  \n",
              "\n",
              "[5 rows x 21 columns]"
            ],
            "text/html": [
              "\n",
              "  <div id=\"df-5d7c5594-9c4a-4558-a0c1-c79a4daf23b4\">\n",
              "    <div class=\"colab-df-container\">\n",
              "      <div>\n",
              "<style scoped>\n",
              "    .dataframe tbody tr th:only-of-type {\n",
              "        vertical-align: middle;\n",
              "    }\n",
              "\n",
              "    .dataframe tbody tr th {\n",
              "        vertical-align: top;\n",
              "    }\n",
              "\n",
              "    .dataframe thead th {\n",
              "        text-align: right;\n",
              "    }\n",
              "</style>\n",
              "<table border=\"1\" class=\"dataframe\">\n",
              "  <thead>\n",
              "    <tr style=\"text-align: right;\">\n",
              "      <th></th>\n",
              "      <th>mean_fit_time</th>\n",
              "      <th>std_fit_time</th>\n",
              "      <th>mean_score_time</th>\n",
              "      <th>std_score_time</th>\n",
              "      <th>param_min_samples_leaf</th>\n",
              "      <th>params</th>\n",
              "      <th>split0_test_score</th>\n",
              "      <th>split1_test_score</th>\n",
              "      <th>split2_test_score</th>\n",
              "      <th>split3_test_score</th>\n",
              "      <th>...</th>\n",
              "      <th>mean_test_score</th>\n",
              "      <th>std_test_score</th>\n",
              "      <th>rank_test_score</th>\n",
              "      <th>split0_train_score</th>\n",
              "      <th>split1_train_score</th>\n",
              "      <th>split2_train_score</th>\n",
              "      <th>split3_train_score</th>\n",
              "      <th>split4_train_score</th>\n",
              "      <th>mean_train_score</th>\n",
              "      <th>std_train_score</th>\n",
              "    </tr>\n",
              "  </thead>\n",
              "  <tbody>\n",
              "    <tr>\n",
              "      <th>0</th>\n",
              "      <td>2.712230</td>\n",
              "      <td>0.033796</td>\n",
              "      <td>0.061624</td>\n",
              "      <td>0.000765</td>\n",
              "      <td>100</td>\n",
              "      <td>{'min_samples_leaf': 100}</td>\n",
              "      <td>0.813810</td>\n",
              "      <td>0.820714</td>\n",
              "      <td>0.817857</td>\n",
              "      <td>0.811429</td>\n",
              "      <td>...</td>\n",
              "      <td>0.815619</td>\n",
              "      <td>0.003274</td>\n",
              "      <td>1</td>\n",
              "      <td>0.816310</td>\n",
              "      <td>0.818155</td>\n",
              "      <td>0.818214</td>\n",
              "      <td>0.817679</td>\n",
              "      <td>0.818631</td>\n",
              "      <td>0.817798</td>\n",
              "      <td>0.000803</td>\n",
              "    </tr>\n",
              "    <tr>\n",
              "      <th>1</th>\n",
              "      <td>2.438685</td>\n",
              "      <td>0.022653</td>\n",
              "      <td>0.056975</td>\n",
              "      <td>0.000965</td>\n",
              "      <td>150</td>\n",
              "      <td>{'min_samples_leaf': 150}</td>\n",
              "      <td>0.812857</td>\n",
              "      <td>0.812381</td>\n",
              "      <td>0.819048</td>\n",
              "      <td>0.811429</td>\n",
              "      <td>...</td>\n",
              "      <td>0.813286</td>\n",
              "      <td>0.002975</td>\n",
              "      <td>2</td>\n",
              "      <td>0.817857</td>\n",
              "      <td>0.809821</td>\n",
              "      <td>0.817976</td>\n",
              "      <td>0.816012</td>\n",
              "      <td>0.815536</td>\n",
              "      <td>0.815440</td>\n",
              "      <td>0.002973</td>\n",
              "    </tr>\n",
              "    <tr>\n",
              "      <th>2</th>\n",
              "      <td>2.256746</td>\n",
              "      <td>0.015388</td>\n",
              "      <td>0.054394</td>\n",
              "      <td>0.000464</td>\n",
              "      <td>200</td>\n",
              "      <td>{'min_samples_leaf': 200}</td>\n",
              "      <td>0.810476</td>\n",
              "      <td>0.812619</td>\n",
              "      <td>0.810952</td>\n",
              "      <td>0.804762</td>\n",
              "      <td>...</td>\n",
              "      <td>0.809381</td>\n",
              "      <td>0.002726</td>\n",
              "      <td>3</td>\n",
              "      <td>0.809464</td>\n",
              "      <td>0.809286</td>\n",
              "      <td>0.810536</td>\n",
              "      <td>0.811250</td>\n",
              "      <td>0.811726</td>\n",
              "      <td>0.810452</td>\n",
              "      <td>0.000959</td>\n",
              "    </tr>\n",
              "    <tr>\n",
              "      <th>3</th>\n",
              "      <td>2.137768</td>\n",
              "      <td>0.020882</td>\n",
              "      <td>0.053139</td>\n",
              "      <td>0.002300</td>\n",
              "      <td>250</td>\n",
              "      <td>{'min_samples_leaf': 250}</td>\n",
              "      <td>0.810476</td>\n",
              "      <td>0.810952</td>\n",
              "      <td>0.810000</td>\n",
              "      <td>0.804524</td>\n",
              "      <td>...</td>\n",
              "      <td>0.808667</td>\n",
              "      <td>0.002412</td>\n",
              "      <td>4</td>\n",
              "      <td>0.808452</td>\n",
              "      <td>0.808810</td>\n",
              "      <td>0.810060</td>\n",
              "      <td>0.811488</td>\n",
              "      <td>0.810357</td>\n",
              "      <td>0.809833</td>\n",
              "      <td>0.001097</td>\n",
              "    </tr>\n",
              "    <tr>\n",
              "      <th>4</th>\n",
              "      <td>2.017692</td>\n",
              "      <td>0.020713</td>\n",
              "      <td>0.052014</td>\n",
              "      <td>0.001703</td>\n",
              "      <td>300</td>\n",
              "      <td>{'min_samples_leaf': 300}</td>\n",
              "      <td>0.811905</td>\n",
              "      <td>0.813810</td>\n",
              "      <td>0.807619</td>\n",
              "      <td>0.802381</td>\n",
              "      <td>...</td>\n",
              "      <td>0.808048</td>\n",
              "      <td>0.004308</td>\n",
              "      <td>5</td>\n",
              "      <td>0.809762</td>\n",
              "      <td>0.809048</td>\n",
              "      <td>0.809583</td>\n",
              "      <td>0.809107</td>\n",
              "      <td>0.805952</td>\n",
              "      <td>0.808690</td>\n",
              "      <td>0.001396</td>\n",
              "    </tr>\n",
              "  </tbody>\n",
              "</table>\n",
              "<p>5 rows × 21 columns</p>\n",
              "</div>\n",
              "      <button class=\"colab-df-convert\" onclick=\"convertToInteractive('df-5d7c5594-9c4a-4558-a0c1-c79a4daf23b4')\"\n",
              "              title=\"Convert this dataframe to an interactive table.\"\n",
              "              style=\"display:none;\">\n",
              "        \n",
              "  <svg xmlns=\"http://www.w3.org/2000/svg\" height=\"24px\"viewBox=\"0 0 24 24\"\n",
              "       width=\"24px\">\n",
              "    <path d=\"M0 0h24v24H0V0z\" fill=\"none\"/>\n",
              "    <path d=\"M18.56 5.44l.94 2.06.94-2.06 2.06-.94-2.06-.94-.94-2.06-.94 2.06-2.06.94zm-11 1L8.5 8.5l.94-2.06 2.06-.94-2.06-.94L8.5 2.5l-.94 2.06-2.06.94zm10 10l.94 2.06.94-2.06 2.06-.94-2.06-.94-.94-2.06-.94 2.06-2.06.94z\"/><path d=\"M17.41 7.96l-1.37-1.37c-.4-.4-.92-.59-1.43-.59-.52 0-1.04.2-1.43.59L10.3 9.45l-7.72 7.72c-.78.78-.78 2.05 0 2.83L4 21.41c.39.39.9.59 1.41.59.51 0 1.02-.2 1.41-.59l7.78-7.78 2.81-2.81c.8-.78.8-2.07 0-2.86zM5.41 20L4 18.59l7.72-7.72 1.47 1.35L5.41 20z\"/>\n",
              "  </svg>\n",
              "      </button>\n",
              "      \n",
              "  <style>\n",
              "    .colab-df-container {\n",
              "      display:flex;\n",
              "      flex-wrap:wrap;\n",
              "      gap: 12px;\n",
              "    }\n",
              "\n",
              "    .colab-df-convert {\n",
              "      background-color: #E8F0FE;\n",
              "      border: none;\n",
              "      border-radius: 50%;\n",
              "      cursor: pointer;\n",
              "      display: none;\n",
              "      fill: #1967D2;\n",
              "      height: 32px;\n",
              "      padding: 0 0 0 0;\n",
              "      width: 32px;\n",
              "    }\n",
              "\n",
              "    .colab-df-convert:hover {\n",
              "      background-color: #E2EBFA;\n",
              "      box-shadow: 0px 1px 2px rgba(60, 64, 67, 0.3), 0px 1px 3px 1px rgba(60, 64, 67, 0.15);\n",
              "      fill: #174EA6;\n",
              "    }\n",
              "\n",
              "    [theme=dark] .colab-df-convert {\n",
              "      background-color: #3B4455;\n",
              "      fill: #D2E3FC;\n",
              "    }\n",
              "\n",
              "    [theme=dark] .colab-df-convert:hover {\n",
              "      background-color: #434B5C;\n",
              "      box-shadow: 0px 1px 3px 1px rgba(0, 0, 0, 0.15);\n",
              "      filter: drop-shadow(0px 1px 2px rgba(0, 0, 0, 0.3));\n",
              "      fill: #FFFFFF;\n",
              "    }\n",
              "  </style>\n",
              "\n",
              "      <script>\n",
              "        const buttonEl =\n",
              "          document.querySelector('#df-5d7c5594-9c4a-4558-a0c1-c79a4daf23b4 button.colab-df-convert');\n",
              "        buttonEl.style.display =\n",
              "          google.colab.kernel.accessAllowed ? 'block' : 'none';\n",
              "\n",
              "        async function convertToInteractive(key) {\n",
              "          const element = document.querySelector('#df-5d7c5594-9c4a-4558-a0c1-c79a4daf23b4');\n",
              "          const dataTable =\n",
              "            await google.colab.kernel.invokeFunction('convertToInteractive',\n",
              "                                                     [key], {});\n",
              "          if (!dataTable) return;\n",
              "\n",
              "          const docLinkHtml = 'Like what you see? Visit the ' +\n",
              "            '<a target=\"_blank\" href=https://colab.research.google.com/notebooks/data_table.ipynb>data table notebook</a>'\n",
              "            + ' to learn more about interactive tables.';\n",
              "          element.innerHTML = '';\n",
              "          dataTable['output_type'] = 'display_data';\n",
              "          await google.colab.output.renderOutput(dataTable, element);\n",
              "          const docLink = document.createElement('div');\n",
              "          docLink.innerHTML = docLinkHtml;\n",
              "          element.appendChild(docLink);\n",
              "        }\n",
              "      </script>\n",
              "    </div>\n",
              "  </div>\n",
              "  "
            ]
          },
          "metadata": {},
          "execution_count": 83
        }
      ]
    },
    {
      "cell_type": "code",
      "source": [
        "# plotting accuracies with min_samples_leaf\n",
        "plt.figure()\n",
        "plt.plot(scores[\"param_min_samples_leaf\"], \n",
        "         scores[\"mean_train_score\"], \n",
        "         label=\"training accuracy\")\n",
        "plt.plot(scores[\"param_min_samples_leaf\"], \n",
        "         scores[\"mean_test_score\"], \n",
        "         label=\"test accuracy\")\n",
        "plt.xlabel(\"min_samples_leaf\")\n",
        "plt.ylabel(\"Accuracy\")\n",
        "plt.legend()\n",
        "plt.show()"
      ],
      "metadata": {
        "colab": {
          "base_uri": "https://localhost:8080/",
          "height": 280
        },
        "id": "JgRuI--XX8sy",
        "outputId": "0ba6b9b4-b692-4177-ebf8-1d6da88e438a"
      },
      "execution_count": null,
      "outputs": [
        {
          "output_type": "display_data",
          "data": {
            "text/plain": [
              "<Figure size 432x288 with 1 Axes>"
            ],
            "image/png": "[encoded data removed]"
          },
          "metadata": {
            "needs_background": "light"
          }
        }
      ]
    },
    {
      "cell_type": "code",
      "source": [
        "# GridSearchCV to find optimal min_samples_split\n",
        "# specify number of folds for k-fold CV\n",
        "n_folds = 5\n",
        "\n",
        "# parameters to build the model on\n",
        "parameters = {'min_samples_split': range(200, 500, 50)}\n"
      ],
      "metadata": {
        "id": "xN_FDSj6X8n6"
      },
      "execution_count": null,
      "outputs": []
    },
    {
      "cell_type": "code",
      "source": [
        "# instantiate the model\n",
        "rf = RandomForestClassifier()\n",
        "\n",
        "\n",
        "# fit tree on training data\n",
        "rf = GridSearchCV(rf, parameters, \n",
        "                    cv=n_folds, \n",
        "                   scoring=\"accuracy\",\n",
        "                 return_train_score=True)\n",
        "rf.fit(X_train, y_train)"
      ],
      "metadata": {
        "colab": {
          "base_uri": "https://localhost:8080/"
        },
        "id": "YhkT_UL-YIB3",
        "outputId": "ecc7c0b5-6898-46d8-8f79-43b82e4e5aee"
      },
      "execution_count": null,
      "outputs": [
        {
          "output_type": "execute_result",
          "data": {
            "text/plain": [
              "GridSearchCV(cv=5, estimator=RandomForestClassifier(),\n",
              "             param_grid={'min_samples_split': range(200, 500, 50)},\n",
              "             return_train_score=True, scoring='accuracy')"
            ]
          },
          "metadata": {},
          "execution_count": 86
        }
      ]
    },
    {
      "cell_type": "code",
      "source": [
        "# scores of GridSearch CV\n",
        "scores = rf.cv_results_\n",
        "pd.DataFrame(scores).head()"
      ],
      "metadata": {
        "colab": {
          "base_uri": "https://localhost:8080/",
          "height": 386
        },
        "id": "QEOjSvgnYLFG",
        "outputId": "bcd04ab0-7da7-4b23-f3fd-fbd54e891644"
      },
      "execution_count": null,
      "outputs": [
        {
          "output_type": "execute_result",
          "data": {
            "text/plain": [
              "   mean_fit_time  std_fit_time  mean_score_time  std_score_time  \\\n",
              "0       3.621130      0.029878         0.068623        0.001193   \n",
              "1       3.427989      0.014175         0.066905        0.002871   \n",
              "2       3.344335      0.031648         0.063949        0.001941   \n",
              "3       3.217731      0.029872         0.061916        0.001479   \n",
              "4       3.149683      0.037353         0.060522        0.000529   \n",
              "\n",
              "  param_min_samples_split                      params  split0_test_score  \\\n",
              "0                     200  {'min_samples_split': 200}           0.817857   \n",
              "1                     250  {'min_samples_split': 250}           0.817619   \n",
              "2                     300  {'min_samples_split': 300}           0.817857   \n",
              "3                     350  {'min_samples_split': 350}           0.817857   \n",
              "4                     400  {'min_samples_split': 400}           0.817619   \n",
              "\n",
              "   split1_test_score  split2_test_score  split3_test_score  ...  \\\n",
              "0           0.821905           0.820238           0.816667  ...   \n",
              "1           0.821905           0.822143           0.816667  ...   \n",
              "2           0.821905           0.820952           0.814524  ...   \n",
              "3           0.820476           0.821190           0.814524  ...   \n",
              "4           0.821429           0.819762           0.815000  ...   \n",
              "\n",
              "   mean_test_score  std_test_score  rank_test_score  split0_train_score  \\\n",
              "0         0.819048        0.001838                1            0.824345   \n",
              "1         0.819000        0.002494                2            0.822083   \n",
              "2         0.818524        0.002649                3            0.822083   \n",
              "3         0.818524        0.002340                4            0.820952   \n",
              "4         0.818429        0.002154                5            0.820774   \n",
              "\n",
              "   split1_train_score  split2_train_score  split3_train_score  \\\n",
              "0            0.823452            0.823690            0.824226   \n",
              "1            0.821786            0.822857            0.822798   \n",
              "2            0.821131            0.821726            0.821786   \n",
              "3            0.820179            0.821250            0.821429   \n",
              "4            0.819643            0.820417            0.820833   \n",
              "\n",
              "   split4_train_score  mean_train_score  std_train_score  \n",
              "0            0.823750          0.823893         0.000338  \n",
              "1            0.822024          0.822310         0.000435  \n",
              "2            0.821845          0.821714         0.000316  \n",
              "3            0.820833          0.820929         0.000430  \n",
              "4            0.821071          0.820548         0.000499  \n",
              "\n",
              "[5 rows x 21 columns]"
            ],
            "text/html": [
              "\n",
              "  <div id=\"df-19b33c7a-d266-4b9f-b31e-49a0b194faf3\">\n",
              "    <div class=\"colab-df-container\">\n",
              "      <div>\n",
              "<style scoped>\n",
              "    .dataframe tbody tr th:only-of-type {\n",
              "        vertical-align: middle;\n",
              "    }\n",
              "\n",
              "    .dataframe tbody tr th {\n",
              "        vertical-align: top;\n",
              "    }\n",
              "\n",
              "    .dataframe thead th {\n",
              "        text-align: right;\n",
              "    }\n",
              "</style>\n",
              "<table border=\"1\" class=\"dataframe\">\n",
              "  <thead>\n",
              "    <tr style=\"text-align: right;\">\n",
              "      <th></th>\n",
              "      <th>mean_fit_time</th>\n",
              "      <th>std_fit_time</th>\n",
              "      <th>mean_score_time</th>\n",
              "      <th>std_score_time</th>\n",
              "      <th>param_min_samples_split</th>\n",
              "      <th>params</th>\n",
              "      <th>split0_test_score</th>\n",
              "      <th>split1_test_score</th>\n",
              "      <th>split2_test_score</th>\n",
              "      <th>split3_test_score</th>\n",
              "      <th>...</th>\n",
              "      <th>mean_test_score</th>\n",
              "      <th>std_test_score</th>\n",
              "      <th>rank_test_score</th>\n",
              "      <th>split0_train_score</th>\n",
              "      <th>split1_train_score</th>\n",
              "      <th>split2_train_score</th>\n",
              "      <th>split3_train_score</th>\n",
              "      <th>split4_train_score</th>\n",
              "      <th>mean_train_score</th>\n",
              "      <th>std_train_score</th>\n",
              "    </tr>\n",
              "  </thead>\n",
              "  <tbody>\n",
              "    <tr>\n",
              "      <th>0</th>\n",
              "      <td>3.621130</td>\n",
              "      <td>0.029878</td>\n",
              "      <td>0.068623</td>\n",
              "      <td>0.001193</td>\n",
              "      <td>200</td>\n",
              "      <td>{'min_samples_split': 200}</td>\n",
              "      <td>0.817857</td>\n",
              "      <td>0.821905</td>\n",
              "      <td>0.820238</td>\n",
              "      <td>0.816667</td>\n",
              "      <td>...</td>\n",
              "      <td>0.819048</td>\n",
              "      <td>0.001838</td>\n",
              "      <td>1</td>\n",
              "      <td>0.824345</td>\n",
              "      <td>0.823452</td>\n",
              "      <td>0.823690</td>\n",
              "      <td>0.824226</td>\n",
              "      <td>0.823750</td>\n",
              "      <td>0.823893</td>\n",
              "      <td>0.000338</td>\n",
              "    </tr>\n",
              "    <tr>\n",
              "      <th>1</th>\n",
              "      <td>3.427989</td>\n",
              "      <td>0.014175</td>\n",
              "      <td>0.066905</td>\n",
              "      <td>0.002871</td>\n",
              "      <td>250</td>\n",
              "      <td>{'min_samples_split': 250}</td>\n",
              "      <td>0.817619</td>\n",
              "      <td>0.821905</td>\n",
              "      <td>0.822143</td>\n",
              "      <td>0.816667</td>\n",
              "      <td>...</td>\n",
              "      <td>0.819000</td>\n",
              "      <td>0.002494</td>\n",
              "      <td>2</td>\n",
              "      <td>0.822083</td>\n",
              "      <td>0.821786</td>\n",
              "      <td>0.822857</td>\n",
              "      <td>0.822798</td>\n",
              "      <td>0.822024</td>\n",
              "      <td>0.822310</td>\n",
              "      <td>0.000435</td>\n",
              "    </tr>\n",
              "    <tr>\n",
              "      <th>2</th>\n",
              "      <td>3.344335</td>\n",
              "      <td>0.031648</td>\n",
              "      <td>0.063949</td>\n",
              "      <td>0.001941</td>\n",
              "      <td>300</td>\n",
              "      <td>{'min_samples_split': 300}</td>\n",
              "      <td>0.817857</td>\n",
              "      <td>0.821905</td>\n",
              "      <td>0.820952</td>\n",
              "      <td>0.814524</td>\n",
              "      <td>...</td>\n",
              "      <td>0.818524</td>\n",
              "      <td>0.002649</td>\n",
              "      <td>3</td>\n",
              "      <td>0.822083</td>\n",
              "      <td>0.821131</td>\n",
              "      <td>0.821726</td>\n",
              "      <td>0.821786</td>\n",
              "      <td>0.821845</td>\n",
              "      <td>0.821714</td>\n",
              "      <td>0.000316</td>\n",
              "    </tr>\n",
              "    <tr>\n",
              "      <th>3</th>\n",
              "      <td>3.217731</td>\n",
              "      <td>0.029872</td>\n",
              "      <td>0.061916</td>\n",
              "      <td>0.001479</td>\n",
              "      <td>350</td>\n",
              "      <td>{'min_samples_split': 350}</td>\n",
              "      <td>0.817857</td>\n",
              "      <td>0.820476</td>\n",
              "      <td>0.821190</td>\n",
              "      <td>0.814524</td>\n",
              "      <td>...</td>\n",
              "      <td>0.818524</td>\n",
              "      <td>0.002340</td>\n",
              "      <td>4</td>\n",
              "      <td>0.820952</td>\n",
              "      <td>0.820179</td>\n",
              "      <td>0.821250</td>\n",
              "      <td>0.821429</td>\n",
              "      <td>0.820833</td>\n",
              "      <td>0.820929</td>\n",
              "      <td>0.000430</td>\n",
              "    </tr>\n",
              "    <tr>\n",
              "      <th>4</th>\n",
              "      <td>3.149683</td>\n",
              "      <td>0.037353</td>\n",
              "      <td>0.060522</td>\n",
              "      <td>0.000529</td>\n",
              "      <td>400</td>\n",
              "      <td>{'min_samples_split': 400}</td>\n",
              "      <td>0.817619</td>\n",
              "      <td>0.821429</td>\n",
              "      <td>0.819762</td>\n",
              "      <td>0.815000</td>\n",
              "      <td>...</td>\n",
              "      <td>0.818429</td>\n",
              "      <td>0.002154</td>\n",
              "      <td>5</td>\n",
              "      <td>0.820774</td>\n",
              "      <td>0.819643</td>\n",
              "      <td>0.820417</td>\n",
              "      <td>0.820833</td>\n",
              "      <td>0.821071</td>\n",
              "      <td>0.820548</td>\n",
              "      <td>0.000499</td>\n",
              "    </tr>\n",
              "  </tbody>\n",
              "</table>\n",
              "<p>5 rows × 21 columns</p>\n",
              "</div>\n",
              "      <button class=\"colab-df-convert\" onclick=\"convertToInteractive('df-19b33c7a-d266-4b9f-b31e-49a0b194faf3')\"\n",
              "              title=\"Convert this dataframe to an interactive table.\"\n",
              "              style=\"display:none;\">\n",
              "        \n",
              "  <svg xmlns=\"http://www.w3.org/2000/svg\" height=\"24px\"viewBox=\"0 0 24 24\"\n",
              "       width=\"24px\">\n",
              "    <path d=\"M0 0h24v24H0V0z\" fill=\"none\"/>\n",
              "    <path d=\"M18.56 5.44l.94 2.06.94-2.06 2.06-.94-2.06-.94-.94-2.06-.94 2.06-2.06.94zm-11 1L8.5 8.5l.94-2.06 2.06-.94-2.06-.94L8.5 2.5l-.94 2.06-2.06.94zm10 10l.94 2.06.94-2.06 2.06-.94-2.06-.94-.94-2.06-.94 2.06-2.06.94z\"/><path d=\"M17.41 7.96l-1.37-1.37c-.4-.4-.92-.59-1.43-.59-.52 0-1.04.2-1.43.59L10.3 9.45l-7.72 7.72c-.78.78-.78 2.05 0 2.83L4 21.41c.39.39.9.59 1.41.59.51 0 1.02-.2 1.41-.59l7.78-7.78 2.81-2.81c.8-.78.8-2.07 0-2.86zM5.41 20L4 18.59l7.72-7.72 1.47 1.35L5.41 20z\"/>\n",
              "  </svg>\n",
              "      </button>\n",
              "      \n",
              "  <style>\n",
              "    .colab-df-container {\n",
              "      display:flex;\n",
              "      flex-wrap:wrap;\n",
              "      gap: 12px;\n",
              "    }\n",
              "\n",
              "    .colab-df-convert {\n",
              "      background-color: #E8F0FE;\n",
              "      border: none;\n",
              "      border-radius: 50%;\n",
              "      cursor: pointer;\n",
              "      display: none;\n",
              "      fill: #1967D2;\n",
              "      height: 32px;\n",
              "      padding: 0 0 0 0;\n",
              "      width: 32px;\n",
              "    }\n",
              "\n",
              "    .colab-df-convert:hover {\n",
              "      background-color: #E2EBFA;\n",
              "      box-shadow: 0px 1px 2px rgba(60, 64, 67, 0.3), 0px 1px 3px 1px rgba(60, 64, 67, 0.15);\n",
              "      fill: #174EA6;\n",
              "    }\n",
              "\n",
              "    [theme=dark] .colab-df-convert {\n",
              "      background-color: #3B4455;\n",
              "      fill: #D2E3FC;\n",
              "    }\n",
              "\n",
              "    [theme=dark] .colab-df-convert:hover {\n",
              "      background-color: #434B5C;\n",
              "      box-shadow: 0px 1px 3px 1px rgba(0, 0, 0, 0.15);\n",
              "      filter: drop-shadow(0px 1px 2px rgba(0, 0, 0, 0.3));\n",
              "      fill: #FFFFFF;\n",
              "    }\n",
              "  </style>\n",
              "\n",
              "      <script>\n",
              "        const buttonEl =\n",
              "          document.querySelector('#df-19b33c7a-d266-4b9f-b31e-49a0b194faf3 button.colab-df-convert');\n",
              "        buttonEl.style.display =\n",
              "          google.colab.kernel.accessAllowed ? 'block' : 'none';\n",
              "\n",
              "        async function convertToInteractive(key) {\n",
              "          const element = document.querySelector('#df-19b33c7a-d266-4b9f-b31e-49a0b194faf3');\n",
              "          const dataTable =\n",
              "            await google.colab.kernel.invokeFunction('convertToInteractive',\n",
              "                                                     [key], {});\n",
              "          if (!dataTable) return;\n",
              "\n",
              "          const docLinkHtml = 'Like what you see? Visit the ' +\n",
              "            '<a target=\"_blank\" href=https://colab.research.google.com/notebooks/data_table.ipynb>data table notebook</a>'\n",
              "            + ' to learn more about interactive tables.';\n",
              "          element.innerHTML = '';\n",
              "          dataTable['output_type'] = 'display_data';\n",
              "          await google.colab.output.renderOutput(dataTable, element);\n",
              "          const docLink = document.createElement('div');\n",
              "          docLink.innerHTML = docLinkHtml;\n",
              "          element.appendChild(docLink);\n",
              "        }\n",
              "      </script>\n",
              "    </div>\n",
              "  </div>\n",
              "  "
            ]
          },
          "metadata": {},
          "execution_count": 87
        }
      ]
    },
    {
      "cell_type": "code",
      "source": [
        "# plotting accuracies with min_samples_split\n",
        "plt.figure()\n",
        "plt.plot(scores[\"param_min_samples_split\"], \n",
        "         scores[\"mean_train_score\"], \n",
        "         label=\"training accuracy\")\n",
        "plt.plot(scores[\"param_min_samples_split\"], \n",
        "         scores[\"mean_test_score\"], \n",
        "         label=\"test accuracy\")\n",
        "plt.xlabel(\"min_samples_split\")\n",
        "plt.ylabel(\"Accuracy\")\n",
        "plt.legend()\n",
        "plt.show()"
      ],
      "metadata": {
        "colab": {
          "base_uri": "https://localhost:8080/",
          "height": 280
        },
        "id": "C3u21Fx_YN-h",
        "outputId": "ecd036cf-18e6-42d0-b762-594364c7dc7e"
      },
      "execution_count": null,
      "outputs": [
        {
          "output_type": "display_data",
          "data": {
            "text/plain": [
              "<Figure size 432x288 with 1 Axes>"
            ],
            "image/png": "[encoded data removed]"
          },
          "metadata": {
            "needs_background": "light"
          }
        }
      ]
    },
    {
      "cell_type": "code",
      "source": [
        "# We can now find the optimal hyperparameters using GridSearchCV.\n",
        "param_grid = {\n",
        "    'max_depth': [4,8,10],\n",
        "    'min_samples_leaf': range(100, 400, 200),\n",
        "    'min_samples_split': range(200, 500, 200),\n",
        "    'n_estimators': [100,200, 300], \n",
        "    'max_features': [5, 10]\n",
        "}"
      ],
      "metadata": {
        "id": "R4Abakd_YQYk"
      },
      "execution_count": null,
      "outputs": []
    },
    {
      "cell_type": "code",
      "source": [
        "# Create a based model\n",
        "rf = RandomForestClassifier()\n",
        "\n",
        "# Instantiate the grid search model\n",
        "grid_search = GridSearchCV(estimator = rf, param_grid = param_grid, \n",
        "                          cv = 3, n_jobs = -1,verbose = 1)"
      ],
      "metadata": {
        "id": "JN6U09UlYiu9"
      },
      "execution_count": null,
      "outputs": []
    },
    {
      "cell_type": "code",
      "source": [
        "# Fit the grid search to the data\n",
        "grid_search.fit(X_train, y_train)"
      ],
      "metadata": {
        "colab": {
          "base_uri": "https://localhost:8080/"
        },
        "id": "d6s3SlBZYjfr",
        "outputId": "5f6358ec-7bda-4828-c3da-b1d1e62ff8ef"
      },
      "execution_count": null,
      "outputs": [
        {
          "output_type": "stream",
          "name": "stdout",
          "text": [
            "Fitting 3 folds for each of 72 candidates, totalling 216 fits\n"
          ]
        },
        {
          "output_type": "execute_result",
          "data": {
            "text/plain": [
              "GridSearchCV(cv=3, estimator=RandomForestClassifier(), n_jobs=-1,\n",
              "             param_grid={'max_depth': [4, 8, 10], 'max_features': [5, 10],\n",
              "                         'min_samples_leaf': range(100, 400, 200),\n",
              "                         'min_samples_split': range(200, 500, 200),\n",
              "                         'n_estimators': [100, 200, 300]},\n",
              "             verbose=1)"
            ]
          },
          "metadata": {},
          "execution_count": 91
        }
      ]
    },
    {
      "cell_type": "code",
      "source": [
        "# printing the optimal accuracy score and hyperparameters\n",
        "print('We can get accuracy of',grid_search.best_score_,'using',grid_search.best_params_)\n"
      ],
      "metadata": {
        "colab": {
          "base_uri": "https://localhost:8080/"
        },
        "id": "9Totc9vCYmtF",
        "outputId": "d0e65942-69ca-4969-b290-6900b97d18f5"
      },
      "execution_count": null,
      "outputs": [
        {
          "output_type": "stream",
          "name": "stdout",
          "text": [
            "We can get accuracy of 0.8183333333333334 using {'max_depth': 10, 'max_features': 10, 'min_samples_leaf': 100, 'min_samples_split': 400, 'n_estimators': 200}\n"
          ]
        }
      ]
    },
    {
      "cell_type": "code",
      "source": [
        "type(grid_search.best_params_)\n",
        "\n",
        "# Fitting the final model with the best parameters obtained from grid search.\n",
        "# model with the best hyperparameters\n",
        "\n",
        "rfc = RandomForestClassifier(bootstrap=True,\n",
        "                             max_depth=4,\n",
        "                             min_samples_leaf=100, \n",
        "                             min_samples_split=200,\n",
        "                             max_features=10,\n",
        "                             n_estimators=300)"
      ],
      "metadata": {
        "id": "afdCVH1uYpe4"
      },
      "execution_count": null,
      "outputs": []
    },
    {
      "cell_type": "code",
      "source": [
        "# fit\n",
        "rfc.fit(X_train,y_train)\n"
      ],
      "metadata": {
        "colab": {
          "base_uri": "https://localhost:8080/"
        },
        "id": "Hz21MjqlYs_c",
        "outputId": "9948d05f-1aff-45e2-81ed-71da00634591"
      },
      "execution_count": null,
      "outputs": [
        {
          "output_type": "execute_result",
          "data": {
            "text/plain": [
              "RandomForestClassifier(max_depth=4, max_features=10, min_samples_leaf=100,\n",
              "                       min_samples_split=200, n_estimators=300)"
            ]
          },
          "metadata": {},
          "execution_count": 94
        }
      ]
    },
    {
      "cell_type": "code",
      "source": [
        "# predict\n",
        "predictions = rfc.predict(X_test)"
      ],
      "metadata": {
        "id": "5oqw80fMax_r"
      },
      "execution_count": null,
      "outputs": []
    },
    {
      "cell_type": "code",
      "source": [
        "# Let's check the report of our default model\n",
        "print(classification_report(y_test,predictions))\n",
        "\n",
        "# Printing confusion matrix\n",
        "print(confusion_matrix(y_test,predictions))\n",
        "\n",
        "print(accuracy_score(y_test,predictions))\n"
      ],
      "metadata": {
        "colab": {
          "base_uri": "https://localhost:8080/"
        },
        "id": "AWi-gRbGa0vQ",
        "outputId": "e1e4bf46-a745-4ed0-ad3e-104c15780c27"
      },
      "execution_count": null,
      "outputs": [
        {
          "output_type": "stream",
          "name": "stdout",
          "text": [
            "              precision    recall  f1-score   support\n",
            "\n",
            "           0       0.84      0.96      0.90      7058\n",
            "           1       0.70      0.35      0.47      1942\n",
            "\n",
            "    accuracy                           0.83      9000\n",
            "   macro avg       0.77      0.66      0.68      9000\n",
            "weighted avg       0.81      0.83      0.80      9000\n",
            "\n",
            "[[6760  298]\n",
            " [1256  686]]\n",
            "0.8273333333333334\n"
          ]
        }
      ]
    },
    {
      "cell_type": "code",
      "source": [
        "# Saving the model to disk\n",
        "pickle.dump(rfc, open('model.pkl', 'wb'))"
      ],
      "metadata": {
        "id": "2o1_pgkSa46a"
      },
      "execution_count": null,
      "outputs": []
    }
  ]
}